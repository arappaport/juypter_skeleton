{
 "cells": [
  {
   "cell_type": "code",
   "execution_count": 1,
   "metadata": {
    "ExecuteTime": {
     "end_time": "2023-12-30T16:14:02.623747Z",
     "start_time": "2023-12-30T16:14:02.619270Z"
    }
   },
   "outputs": [],
   "source": [
    "# Examples on how to check and clean a dataframe - such as after loading from CSV\n"
   ]
  },
  {
   "cell_type": "code",
   "outputs": [
    {
     "name": "stderr",
     "output_type": "stream",
     "text": [
      "log level = 10\n"
     ]
    }
   ],
   "source": [
    "import pandas as pd\n",
    "import logging\n",
    "from check_df import check_df\n",
    "\n",
    "logging.basicConfig(level=logging.DEBUG, format=\"%(message)s\")\n",
    "LOGGER = logging.getLogger(__name__)\n",
    "LOGGER.debug(\"log level = %s\", str(LOGGER.getEffectiveLevel()))\n",
    "\n",
    "\n",
    "#Columns that must be in the CSV. \n",
    "REQUIRED_COLUMNS=['label','text','int','end']\n",
    "\n",
    "#Columns that must have non-empty values. \n",
    "REQUIRED_VALUES=['label','text','int']"
   ],
   "metadata": {
    "collapsed": false,
    "ExecuteTime": {
     "end_time": "2023-12-30T16:14:02.757761Z",
     "start_time": "2023-12-30T16:14:02.754092Z"
    }
   },
   "execution_count": 2
  },
  {
   "cell_type": "code",
   "execution_count": 3,
   "outputs": [
    {
     "ename": "SyntaxError",
     "evalue": "invalid syntax (1274982828.py, line 7)",
     "output_type": "error",
     "traceback": [
      "\u001B[0;36m  Cell \u001B[0;32mIn[3], line 7\u001B[0;36m\u001B[0m\n\u001B[0;31m    Use code with caution. Learn more\u001B[0m\n\u001B[0m        ^\u001B[0m\n\u001B[0;31mSyntaxError\u001B[0m\u001B[0;31m:\u001B[0m invalid syntax\n"
     ]
    }
   ],
   "source": [
    "\n",
    "\n",
    "data = {\n",
    "    'int':  [0, 1, 2, 4,None , '  6',None], \n",
    "    'text': ['apple', 'banana', 'orange'],\n",
    "    'label':['bad-empty-ok','bad-space-ok','leading-ok','bad-ok-empty','bad-ok-spaces','ok-ok-leading','r-good','r-All Empty']\n",
    "}\n",
    "\n",
    "Use code with caution. Learn more\n",
    "\n",
    "3. Create the DataFrame:\n",
    "Python\n",
    "\n",
    "df = pd.DataFrame(data)\n",
    "\n",
    "\n",
    "err = check_df(df,REQUIRED_COLUMNS, REQUIRED_VALUES)\n",
    "print(f\"Errors found {err}\")\n",
    "if err: \n",
    "    Exception(err)\n",
    "df.head(20)\n",
    "\n",
    "\n",
    "\n"
   ],
   "metadata": {
    "collapsed": false,
    "ExecuteTime": {
     "end_time": "2023-12-30T16:14:02.961702Z",
     "start_time": "2023-12-30T16:14:02.957031Z"
    }
   }
  },
  {
   "cell_type": "code",
   "outputs": [],
   "source": [],
   "metadata": {
    "collapsed": false,
    "ExecuteTime": {
     "end_time": "2023-12-30T16:14:03.159384Z",
     "start_time": "2023-12-30T16:14:03.156809Z"
    }
   },
   "execution_count": 3
  },
  {
   "cell_type": "code",
   "outputs": [
    {
     "name": "stderr",
     "output_type": "stream",
     "text": [
      "Num empty required cells in dataframe: 8\n"
     ]
    },
    {
     "name": "stdout",
     "output_type": "stream",
     "text": [
      "Errors found Data error. Dataframe contained 8 empty cells in required columns ['label', 'text', 'int', 'end']. The returned list shows the row index and column names of the FIRST ERROR IN ROWS with blanks.  {0: 'text', 1: 'text', 3: 'int', 4: 'int', 7: 'int', 8: 'int'}\n"
     ]
    },
    {
     "data": {
      "text/plain": "           label         text  int  end\n0   bad-empty-ok          NaN  1.0  end\n1   bad-space-ok          NaN  2.0  end\n2     leading-ok   leading_sp  3.0  end\n3   bad-ok-empty          val  NaN  end\n4  bad-ok-spaces          val  NaN  end\n5  ok-ok-leading          val  4.0  end\n6         r-good          val  0.0  end\n7    r-All Empty          NaN  NaN  NaN\n8            NaN  Empty Label  NaN  NaN",
      "text/html": "<div>\n<style scoped>\n    .dataframe tbody tr th:only-of-type {\n        vertical-align: middle;\n    }\n\n    .dataframe tbody tr th {\n        vertical-align: top;\n    }\n\n    .dataframe thead th {\n        text-align: right;\n    }\n</style>\n<table border=\"1\" class=\"dataframe\">\n  <thead>\n    <tr style=\"text-align: right;\">\n      <th></th>\n      <th>label</th>\n      <th>text</th>\n      <th>int</th>\n      <th>end</th>\n    </tr>\n  </thead>\n  <tbody>\n    <tr>\n      <th>0</th>\n      <td>bad-empty-ok</td>\n      <td>NaN</td>\n      <td>1.0</td>\n      <td>end</td>\n    </tr>\n    <tr>\n      <th>1</th>\n      <td>bad-space-ok</td>\n      <td>NaN</td>\n      <td>2.0</td>\n      <td>end</td>\n    </tr>\n    <tr>\n      <th>2</th>\n      <td>leading-ok</td>\n      <td>leading_sp</td>\n      <td>3.0</td>\n      <td>end</td>\n    </tr>\n    <tr>\n      <th>3</th>\n      <td>bad-ok-empty</td>\n      <td>val</td>\n      <td>NaN</td>\n      <td>end</td>\n    </tr>\n    <tr>\n      <th>4</th>\n      <td>bad-ok-spaces</td>\n      <td>val</td>\n      <td>NaN</td>\n      <td>end</td>\n    </tr>\n    <tr>\n      <th>5</th>\n      <td>ok-ok-leading</td>\n      <td>val</td>\n      <td>4.0</td>\n      <td>end</td>\n    </tr>\n    <tr>\n      <th>6</th>\n      <td>r-good</td>\n      <td>val</td>\n      <td>0.0</td>\n      <td>end</td>\n    </tr>\n    <tr>\n      <th>7</th>\n      <td>r-All Empty</td>\n      <td>NaN</td>\n      <td>NaN</td>\n      <td>NaN</td>\n    </tr>\n    <tr>\n      <th>8</th>\n      <td>NaN</td>\n      <td>Empty Label</td>\n      <td>NaN</td>\n      <td>NaN</td>\n    </tr>\n  </tbody>\n</table>\n</div>"
     },
     "execution_count": 4,
     "metadata": {},
     "output_type": "execute_result"
    }
   ],
   "source": [
    "df = pd.read_csv(\"./data/test_clean.csv\", skipinitialspace=True)\n",
    "df.head(12)\n",
    "\n",
    "err = check_df(df,REQUIRED_COLUMNS, REQUIRED_VALUES)\n",
    "print(f\"Errors found {err}\")\n",
    "if err: \n",
    "    Exception(err)\n",
    "df.head(20)"
   ],
   "metadata": {
    "collapsed": false,
    "ExecuteTime": {
     "end_time": "2023-12-30T16:14:03.422157Z",
     "start_time": "2023-12-30T16:14:03.406722Z"
    }
   },
   "execution_count": 4
  },
  {
   "cell_type": "code",
   "outputs": [],
   "source": [
    "df['text'].unique()"
   ],
   "metadata": {
    "collapsed": false
   },
   "execution_count": null
  },
  {
   "cell_type": "code",
   "outputs": [],
   "source": [
    "ALL Below is just differnt experiements to detect and clean.          Not really useful. "
   ],
   "metadata": {
    "collapsed": false
   },
   "execution_count": null
  },
  {
   "cell_type": "code",
   "outputs": [],
   "source": [
    "def trim_all(df:pd.DataFrame):\n",
    "    df_trimmed = df.map(lambda x: x.strip() if isinstance(x, str) else x)\n",
    "    return df_trimmed"
   ],
   "metadata": {
    "collapsed": false
   },
   "execution_count": null
  },
  {
   "cell_type": "code",
   "outputs": [],
   "source": [
    "#Does trimming after this type of CSV load make a difference?  Answer NO. \n",
    "df_trimmed = trim_all(df)\n",
    "comparison = df.compare(df_trimmed)\n",
    "print(comparison)\n"
   ],
   "metadata": {
    "collapsed": false
   },
   "execution_count": null
  },
  {
   "cell_type": "code",
   "outputs": [],
   "source": [
    "def find_blanks(df):\n",
    "    # Print locations of null cells\n",
    "    print(\"Null cells:\")\n",
    "    for row, col in zip(*df.isnull().values.nonzero()):\n",
    "        print(f\"Row {row + 1}, Column {col + 1}\")\n",
    "\n",
    "    # Print locations of empty strings\n",
    "    print(\"\\nEmpty strings:\")\n",
    "    for row in df[df.eq('')].index:\n",
    "        print(f\"Row {row + 1}\")\n",
    "\n",
    "    # Print locations of spaces or nulls\n",
    "#    print(\"\\nSpaces or nulls:\")\n",
    "#    for row, col in zip(*df.str.strip().isnull().values.nonzero()):\n",
    "#        print(f\"Row {row + 1}, Column {col + 1}\")"
   ],
   "metadata": {
    "collapsed": false
   },
   "execution_count": null
  },
  {
   "cell_type": "code",
   "outputs": [],
   "source": [
    "print(\"after - trim_all\")\n",
    "df_trimmed = trim_all(df)\n",
    "print(df_trimmed.head(20))\n",
    "find_blanks(df_trimmed)"
   ],
   "metadata": {
    "collapsed": false
   },
   "execution_count": null
  },
  {
   "cell_type": "code",
   "outputs": [],
   "source": [
    "# Find rows with empty strings in any column\n",
    "empty_rows = df[df.eq('').any(axis=1)]\n",
    "print('rows with blanks')\n",
    "print(empty_rows)\n",
    "\n",
    "# Find columns with empty strings\n",
    "empty_cols = df.columns[df.eq('').any()]\n",
    "print('empty_cols')\n",
    "print(empty_cols)\n"
   ],
   "metadata": {
    "collapsed": false
   },
   "execution_count": null
  },
  {
   "cell_type": "code",
   "outputs": [],
   "source": [],
   "metadata": {
    "collapsed": false
   },
   "execution_count": null
  },
  {
   "cell_type": "code",
   "outputs": [],
   "source": [],
   "metadata": {
    "collapsed": false
   }
  }
 ],
 "metadata": {
  "kernelspec": {
   "display_name": "Python 3",
   "language": "python",
   "name": "python3"
  },
  "language_info": {
   "name": "python",
   "version": "3.11.0 (main, Oct 25 2022, 13:57:33) [Clang 14.0.0 (clang-1400.0.29.202)]"
  },
  "orig_nbformat": 4,
  "vscode": {
   "interpreter": {
    "hash": "5c7b89af1651d0b8571dde13640ecdccf7d5a6204171d6ab33e7c296e100e08a"
   }
  }
 },
 "nbformat": 4,
 "nbformat_minor": 2
}
