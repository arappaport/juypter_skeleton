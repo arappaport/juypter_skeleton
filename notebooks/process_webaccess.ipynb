{
 "cells": [
  {
   "cell_type": "markdown",
   "source": [
    "from _ast import Load\n",
    "\n",
    "# Simple notebook to process generic webaccess files. \n",
    "\n",
    "Assumptions\n",
    "1. There are one or more csv files with access logs in the given directory. \n",
    "1. Each file can be big - 20k or more rows to process\n",
    "\n",
    "Approach: \n",
    "1. Load each csv in the named directory with the given file spec (glob style)\n",
    "1. combine as we go into a master df.     If the size becomes too large . then process each file one at a time and collect the stats as we go. \n",
    "\n"
   ],
   "metadata": {
    "collapsed": false
   }
  },
  {
   "cell_type": "code",
   "execution_count": null,
   "outputs": [],
   "source": [],
   "metadata": {
    "collapsed": false,
    "ExecuteTime": {
     "end_time": "2024-03-24T21:10:56.953372Z",
     "start_time": "2024-03-24T21:10:56.952112Z"
    }
   }
  },
  {
   "cell_type": "code",
   "execution_count": 48,
   "outputs": [
    {
     "name": "stderr",
     "output_type": "stream",
     "text": [
      "log level = 10\n"
     ]
    }
   ],
   "source": [
    "import pandas as pd\n",
    "import logging\n",
    "from datetime import date, timedelta\n",
    "import numpy as np\n",
    "from datetime import date, datetime\n",
    "import seaborn as sns\n",
    "import os\n",
    "import glob\n",
    "import pytz\n",
    "from df_util import check_df\n",
    "\n",
    "logging.basicConfig(level=logging.DEBUG, format=\"%(message)s\")\n",
    "LOGGER = logging.getLogger(__name__)\n",
    "LOGGER.debug(\"log level = %s\", str(LOGGER.getEffectiveLevel()))\n"
   ],
   "metadata": {
    "collapsed": false,
    "ExecuteTime": {
     "end_time": "2024-03-24T23:27:04.442162Z",
     "start_time": "2024-03-24T23:27:04.415085Z"
    }
   }
  },
  {
   "cell_type": "markdown",
   "source": [],
   "metadata": {
    "collapsed": false
   }
  },
  {
   "cell_type": "code",
   "outputs": [],
   "source": [
    "#files to load: \n",
    "if False:\n",
    "    FILE_PATTERN=\"../data/webaccess/web_access_*.csv\"\n",
    "    #Columns that must be in the CSV. \n",
    "    REQUIRED_COLUMNS=['date','user','url']\n",
    "else:\n",
    "\n",
    "    FILE_PATTERN=\"../../../sample_webaccess_data/*UTC_web_log*csv\"\n",
    "    REQUIRED_COLUMNS=['Event Time', 'User', 'URL', 'Cloud Application Class', 'Cloud Application', \n",
    "                  'URL Class','URL Super Category', 'URL Category', 'Threat Category', 'Threat Name',\n",
    "                  'Location', 'Department', \n",
    "                  #'Protocol', 'Blocked Policy Type',\n",
    "                  'Upload File Name']\n",
    "    \n",
    "\n",
    "\n",
    "REQUIRED_VALUES=REQUIRED_COLUMNS\n",
    "\n",
    "DATE_AS_OF=date.fromisoformat('2023-06-01') #Date for analysis\n",
    "\n",
    "#For data visualization - date range sizes\n",
    "DATE_GROUP_DAYS=30\n",
    "CUTOFF_DAYS=90\n"
   ],
   "metadata": {
    "collapsed": false,
    "ExecuteTime": {
     "end_time": "2024-03-24T23:27:05.358827Z",
     "start_time": "2024-03-24T23:27:05.355867Z"
    }
   },
   "execution_count": 49
  },
  {
   "cell_type": "code",
   "outputs": [
    {
     "name": "stderr",
     "output_type": "stream",
     "text": [
      "1 files met the file pattern:[../../../sample_webaccess_data/*UTC_web_log*csv]\n"
     ]
    },
    {
     "name": "stdout",
     "output_type": "stream",
     "text": [
      "['../../../sample_webaccess_data/2024-03-24T20-49-01_UTC_web_log_cleaned.csv']\n"
     ]
    }
   ],
   "source": [
    "#  Determine which  files that meet the filespec - this doesn't load them\n",
    "file_names = glob.glob(FILE_PATTERN)\n",
    "if len(file_names) == 0:\n",
    "    msg = f\"ERROR: No file names found for pattern (\\\"{FILE_PATTERN}\\\". Stopping\"\n",
    "    LOGGER.error(msg)\n",
    "    raise ValueError(msg)\n",
    "\n",
    "LOGGER.info(\"%d files met the file pattern:[%s]\", len(file_names), FILE_PATTERN)\n",
    "print(file_names)\n",
    "    "
   ],
   "metadata": {
    "collapsed": false,
    "ExecuteTime": {
     "end_time": "2024-03-24T23:27:05.907303Z",
     "start_time": "2024-03-24T23:27:05.902885Z"
    }
   },
   "execution_count": 50
  },
  {
   "cell_type": "code",
   "outputs": [
    {
     "name": "stderr",
     "output_type": "stream",
     "text": [
      "file 0:[../../../sample_webaccess_data/2024-03-24T20-49-01_UTC_web_log_cleaned.csv]: Loaded 1000 rows\n"
     ]
    },
    {
     "data": {
      "text/plain": "   No.                     Event Time   User  \\\n0  130  March 22, 2024 9:00:04 PM PDT  AAAAA   \n1  131  March 22, 2024 9:00:04 PM PDT  AAAAA   \n2  151  March 22, 2024 9:00:05 PM PDT  AAAAA   \n3  152  March 22, 2024 9:00:05 PM PDT  AAAAA   \n4  368  March 22, 2024 9:00:12 PM PDT  AAAAA   \n\n                                                 URL Policy Action  \\\n0  d.la1-core1.sfdc-lywfpd.salesforceliveagent.co...       Allowed   \n1  d.la1-core1.sfdc-lywfpd.salesforceliveagent.co...       Allowed   \n2                                chat.google.com:443       Allowed   \n3           chat.google.com/u/0/_/dynamitewebui/idv/       Allowed   \n4  d.la1-core2.sfdc-lywfpd.salesforceliveagent.co...       Allowed   \n\n      Cloud Application Class Cloud Application     URL Class  \\\n0  Productivity and CRM Tools        Salesforce  Business Use   \n1  Productivity and CRM Tools        Salesforce  Business Use   \n2           Instant Messaging       Google Chat  Business Use   \n3           Instant Messaging       Google Chat  Business Use   \n4  Productivity and CRM Tools        Salesforce  Business Use   \n\n       URL Super Category           URL Category  ...  DLP MD5  \\\n0    Business and Economy  Professional Services  ...      NaN   \n1    Business and Economy  Professional Services  ...      NaN   \n2  Internet Communication            Online Chat  ...      NaN   \n3  Internet Communication            Online Chat  ...      NaN   \n4    Business and Economy  Professional Services  ...      NaN   \n\n   DLP Identifier ALPN Protocol Unscannable Type Forwarding Rule  \\\n0             NaN           NaN              NaN             NaN   \n1             NaN           NaN              NaN             NaN   \n2             NaN           NaN              NaN             NaN   \n3             NaN           NaN              NaN             NaN   \n4             NaN           NaN              NaN             NaN   \n\n   Forwarding Method Application Segment Gateway IP Gateway Name  \\\n0                NaN                 NaN        NaN          NaN   \n1                NaN                 NaN        NaN          NaN   \n2                NaN                 NaN        NaN          NaN   \n3                NaN                 NaN        NaN          NaN   \n4                NaN                 NaN        NaN          NaN   \n\n  Upload File Name  \n0              NaN  \n1              NaN  \n2              NaN  \n3              NaN  \n4              NaN  \n\n[5 rows x 33 columns]",
      "text/html": "<div>\n<style scoped>\n    .dataframe tbody tr th:only-of-type {\n        vertical-align: middle;\n    }\n\n    .dataframe tbody tr th {\n        vertical-align: top;\n    }\n\n    .dataframe thead th {\n        text-align: right;\n    }\n</style>\n<table border=\"1\" class=\"dataframe\">\n  <thead>\n    <tr style=\"text-align: right;\">\n      <th></th>\n      <th>No.</th>\n      <th>Event Time</th>\n      <th>User</th>\n      <th>URL</th>\n      <th>Policy Action</th>\n      <th>Cloud Application Class</th>\n      <th>Cloud Application</th>\n      <th>URL Class</th>\n      <th>URL Super Category</th>\n      <th>URL Category</th>\n      <th>...</th>\n      <th>DLP MD5</th>\n      <th>DLP Identifier</th>\n      <th>ALPN Protocol</th>\n      <th>Unscannable Type</th>\n      <th>Forwarding Rule</th>\n      <th>Forwarding Method</th>\n      <th>Application Segment</th>\n      <th>Gateway IP</th>\n      <th>Gateway Name</th>\n      <th>Upload File Name</th>\n    </tr>\n  </thead>\n  <tbody>\n    <tr>\n      <th>0</th>\n      <td>130</td>\n      <td>March 22, 2024 9:00:04 PM PDT</td>\n      <td>AAAAA</td>\n      <td>d.la1-core1.sfdc-lywfpd.salesforceliveagent.co...</td>\n      <td>Allowed</td>\n      <td>Productivity and CRM Tools</td>\n      <td>Salesforce</td>\n      <td>Business Use</td>\n      <td>Business and Economy</td>\n      <td>Professional Services</td>\n      <td>...</td>\n      <td>NaN</td>\n      <td>NaN</td>\n      <td>NaN</td>\n      <td>NaN</td>\n      <td>NaN</td>\n      <td>NaN</td>\n      <td>NaN</td>\n      <td>NaN</td>\n      <td>NaN</td>\n      <td>NaN</td>\n    </tr>\n    <tr>\n      <th>1</th>\n      <td>131</td>\n      <td>March 22, 2024 9:00:04 PM PDT</td>\n      <td>AAAAA</td>\n      <td>d.la1-core1.sfdc-lywfpd.salesforceliveagent.co...</td>\n      <td>Allowed</td>\n      <td>Productivity and CRM Tools</td>\n      <td>Salesforce</td>\n      <td>Business Use</td>\n      <td>Business and Economy</td>\n      <td>Professional Services</td>\n      <td>...</td>\n      <td>NaN</td>\n      <td>NaN</td>\n      <td>NaN</td>\n      <td>NaN</td>\n      <td>NaN</td>\n      <td>NaN</td>\n      <td>NaN</td>\n      <td>NaN</td>\n      <td>NaN</td>\n      <td>NaN</td>\n    </tr>\n    <tr>\n      <th>2</th>\n      <td>151</td>\n      <td>March 22, 2024 9:00:05 PM PDT</td>\n      <td>AAAAA</td>\n      <td>chat.google.com:443</td>\n      <td>Allowed</td>\n      <td>Instant Messaging</td>\n      <td>Google Chat</td>\n      <td>Business Use</td>\n      <td>Internet Communication</td>\n      <td>Online Chat</td>\n      <td>...</td>\n      <td>NaN</td>\n      <td>NaN</td>\n      <td>NaN</td>\n      <td>NaN</td>\n      <td>NaN</td>\n      <td>NaN</td>\n      <td>NaN</td>\n      <td>NaN</td>\n      <td>NaN</td>\n      <td>NaN</td>\n    </tr>\n    <tr>\n      <th>3</th>\n      <td>152</td>\n      <td>March 22, 2024 9:00:05 PM PDT</td>\n      <td>AAAAA</td>\n      <td>chat.google.com/u/0/_/dynamitewebui/idv/</td>\n      <td>Allowed</td>\n      <td>Instant Messaging</td>\n      <td>Google Chat</td>\n      <td>Business Use</td>\n      <td>Internet Communication</td>\n      <td>Online Chat</td>\n      <td>...</td>\n      <td>NaN</td>\n      <td>NaN</td>\n      <td>NaN</td>\n      <td>NaN</td>\n      <td>NaN</td>\n      <td>NaN</td>\n      <td>NaN</td>\n      <td>NaN</td>\n      <td>NaN</td>\n      <td>NaN</td>\n    </tr>\n    <tr>\n      <th>4</th>\n      <td>368</td>\n      <td>March 22, 2024 9:00:12 PM PDT</td>\n      <td>AAAAA</td>\n      <td>d.la1-core2.sfdc-lywfpd.salesforceliveagent.co...</td>\n      <td>Allowed</td>\n      <td>Productivity and CRM Tools</td>\n      <td>Salesforce</td>\n      <td>Business Use</td>\n      <td>Business and Economy</td>\n      <td>Professional Services</td>\n      <td>...</td>\n      <td>NaN</td>\n      <td>NaN</td>\n      <td>NaN</td>\n      <td>NaN</td>\n      <td>NaN</td>\n      <td>NaN</td>\n      <td>NaN</td>\n      <td>NaN</td>\n      <td>NaN</td>\n      <td>NaN</td>\n    </tr>\n  </tbody>\n</table>\n<p>5 rows × 33 columns</p>\n</div>"
     },
     "execution_count": 51,
     "metadata": {},
     "output_type": "execute_result"
    }
   ],
   "source": [
    "df = None\n",
    "\n",
    "#TODO - skip any non value rows from top of CSV. \n",
    "for i, file_name in enumerate(file_names):\n",
    "    df_tmp = pd.read_csv(file_name)\n",
    "    LOGGER.debug(\"file %d:[%s]: Loaded %d rows\", i, file_name, len(df_tmp))\n",
    "\n",
    "    if df is None:\n",
    "        df = df_tmp\n",
    "    else:\n",
    "        df = pd.concat([df, df_tmp], axis=0)\n",
    "        LOGGER.debug(\" after concat: df len= %d rows\", len(df))\n",
    "df.head()"
   ],
   "metadata": {
    "collapsed": false,
    "ExecuteTime": {
     "end_time": "2024-03-24T23:27:06.602570Z",
     "start_time": "2024-03-24T23:27:06.586755Z"
    }
   },
   "execution_count": 51
  },
  {
   "cell_type": "code",
   "outputs": [],
   "source": [],
   "metadata": {
    "collapsed": false,
    "ExecuteTime": {
     "end_time": "2024-03-24T23:27:08.546658Z",
     "start_time": "2024-03-24T23:27:08.542520Z"
    }
   },
   "execution_count": 51
  },
  {
   "cell_type": "code",
   "outputs": [
    {
     "name": "stderr",
     "output_type": "stream",
     "text": [
      "Num empty required cells in dataframe: 3000\n",
      "Loaded 1000 clean rows\n"
     ]
    },
    {
     "name": "stdout",
     "output_type": "stream",
     "text": [
      "Data error. Dataframe contained 3000 empty cells in required columns ['Event Time', 'User', 'URL', 'Cloud Application Class', 'Cloud Application', 'URL Class', 'URL Super Category', 'URL Category', 'Threat Category', 'Threat Name', 'Location', 'Department', 'Upload File Name']. The returned list shows the row index and column names of the FIRST ERROR IN ROWS with blanks.  {0: 'Upload File Name', 1: 'Upload File Name', 2: 'Upload File Name', 3: 'Upload File Name', 4: 'Upload File Name', 5: 'Upload File Name', 6: 'Upload File Name', 7: 'Upload File Name', 8: 'Upload File Name', 9: 'Upload File Name', 10: 'Upload File Name', 11: 'Upload File Name', 12: 'Upload File Name', 13: 'Upload File Name', 14: 'Upload File Name', 15: 'Upload File Name', 16: 'Upload File Name', 17: 'Upload File Name', 18: 'Upload File Name', 19: 'Upload File Name', 20: 'Upload File Name', 21: 'Upload File Name', 22: 'Upload File Name', 23: 'Upload File Name', 24: 'Upload File Name', 25: 'Upload File Name', 26: 'Upload File Name', 27: 'Upload File Name', 28: 'Upload File Name', 29: 'Upload File Name', 30: 'Upload File Name', 31: 'Upload File Name', 32: 'Upload File Name', 33: 'Upload File Name', 34: 'Upload File Name', 35: 'Upload File Name', 36: 'Upload File Name', 37: 'Upload File Name', 38: 'Upload File Name', 39: 'Upload File Name', 40: 'Upload File Name', 41: 'Upload File Name', 42: 'Upload File Name', 43: 'Upload File Name', 44: 'Upload File Name', 45: 'Upload File Name', 46: 'Upload File Name', 47: 'Upload File Name', 48: 'Upload File Name', 49: 'Upload File Name', 50: 'Upload File Name', 51: 'Upload File Name', 52: 'Upload File Name', 53: 'Upload File Name', 54: 'Upload File Name', 55: 'Upload File Name', 56: 'Upload File Name', 57: 'Upload File Name', 58: 'Upload File Name', 59: 'Upload File Name', 60: 'Upload File Name', 61: 'Upload File Name', 62: 'Upload File Name', 63: 'Upload File Name', 64: 'Upload File Name', 65: 'Upload File Name', 66: 'Upload File Name', 67: 'Upload File Name', 68: 'Upload File Name', 69: 'Upload File Name', 70: 'Upload File Name', 71: 'Upload File Name', 72: 'Upload File Name', 73: 'Upload File Name', 74: 'Upload File Name', 75: 'Upload File Name', 76: 'Upload File Name', 77: 'Upload File Name', 78: 'Upload File Name', 79: 'Upload File Name', 80: 'Upload File Name', 81: 'Upload File Name', 82: 'Upload File Name', 83: 'Upload File Name', 84: 'Upload File Name', 85: 'Upload File Name', 86: 'Upload File Name', 87: 'Upload File Name', 88: 'Upload File Name', 89: 'Upload File Name', 90: 'Upload File Name', 91: 'Upload File Name', 92: 'Upload File Name', 93: 'Upload File Name', 94: 'Upload File Name', 95: 'Upload File Name', 96: 'Upload File Name', 97: 'Upload File Name', 98: 'Upload File Name', 99: 'Upload File Name', 100: 'Upload File Name', 101: 'Upload File Name', 102: 'Upload File Name', 103: 'Upload File Name', 104: 'Upload File Name', 105: 'Upload File Name', 106: 'Upload File Name', 107: 'Upload File Name', 108: 'Upload File Name', 109: 'Upload File Name', 110: 'Upload File Name', 111: 'Upload File Name', 112: 'Upload File Name', 113: 'Upload File Name', 114: 'Upload File Name', 115: 'Upload File Name', 116: 'Upload File Name', 117: 'Upload File Name', 118: 'Upload File Name', 119: 'Upload File Name', 120: 'Upload File Name', 121: 'Upload File Name', 122: 'Upload File Name', 123: 'Upload File Name', 124: 'Upload File Name', 125: 'Upload File Name', 126: 'Upload File Name', 127: 'Upload File Name', 128: 'Upload File Name', 129: 'Upload File Name', 130: 'Upload File Name', 131: 'Upload File Name', 132: 'Upload File Name', 133: 'Upload File Name', 134: 'Upload File Name', 135: 'Upload File Name', 136: 'Upload File Name', 137: 'Upload File Name', 138: 'Upload File Name', 139: 'Upload File Name', 140: 'Upload File Name', 141: 'Upload File Name', 142: 'Upload File Name', 143: 'Upload File Name', 144: 'Upload File Name', 145: 'Upload File Name', 146: 'Upload File Name', 147: 'Upload File Name', 148: 'Upload File Name', 149: 'Upload File Name', 150: 'Upload File Name', 151: 'Upload File Name', 152: 'Upload File Name', 153: 'Upload File Name', 154: 'Upload File Name', 155: 'Upload File Name', 156: 'Upload File Name', 157: 'Upload File Name', 158: 'Upload File Name', 159: 'Upload File Name', 160: 'Upload File Name', 161: 'Upload File Name', 162: 'Upload File Name', 163: 'Upload File Name', 164: 'Upload File Name', 165: 'Upload File Name', 166: 'Upload File Name', 167: 'Upload File Name', 168: 'Upload File Name', 169: 'Upload File Name', 170: 'Upload File Name', 171: 'Upload File Name', 172: 'Upload File Name', 173: 'Upload File Name', 174: 'Upload File Name', 175: 'Upload File Name', 176: 'Upload File Name', 177: 'Upload File Name', 178: 'Upload File Name', 179: 'Upload File Name', 180: 'Upload File Name', 181: 'Upload File Name', 182: 'Upload File Name', 183: 'Upload File Name', 184: 'Upload File Name', 185: 'Upload File Name', 186: 'Upload File Name', 187: 'Upload File Name', 188: 'Upload File Name', 189: 'Upload File Name', 190: 'Upload File Name', 191: 'Upload File Name', 192: 'Upload File Name', 193: 'Upload File Name', 194: 'Upload File Name', 195: 'Upload File Name', 196: 'Upload File Name', 197: 'Upload File Name', 198: 'Upload File Name', 199: 'Upload File Name', 200: 'Upload File Name', 201: 'Upload File Name', 202: 'Upload File Name', 203: 'Upload File Name', 204: 'Upload File Name', 205: 'Upload File Name', 206: 'Upload File Name', 207: 'Upload File Name', 208: 'Upload File Name', 209: 'Upload File Name', 210: 'Upload File Name', 211: 'Upload File Name', 212: 'Upload File Name', 213: 'Upload File Name', 214: 'Upload File Name', 215: 'Upload File Name', 216: 'Upload File Name', 217: 'Upload File Name', 218: 'Upload File Name', 219: 'Upload File Name', 220: 'Upload File Name', 221: 'Upload File Name', 222: 'Upload File Name', 223: 'Upload File Name', 224: 'Upload File Name', 225: 'Upload File Name', 226: 'Upload File Name', 227: 'Upload File Name', 228: 'Upload File Name', 229: 'Upload File Name', 230: 'Upload File Name', 231: 'Upload File Name', 232: 'Upload File Name', 233: 'Upload File Name', 234: 'Upload File Name', 235: 'Upload File Name', 236: 'Upload File Name', 237: 'Upload File Name', 238: 'Upload File Name', 239: 'Upload File Name', 240: 'Upload File Name', 241: 'Upload File Name', 242: 'Upload File Name', 243: 'Upload File Name', 244: 'Upload File Name', 245: 'Upload File Name', 246: 'Upload File Name', 247: 'Upload File Name', 248: 'Upload File Name', 249: 'Upload File Name', 250: 'Upload File Name', 251: 'Upload File Name', 252: 'Upload File Name', 253: 'Upload File Name', 254: 'Upload File Name', 255: 'Upload File Name', 256: 'Upload File Name', 257: 'Upload File Name', 258: 'Upload File Name', 259: 'Upload File Name', 260: 'Upload File Name', 261: 'Upload File Name', 262: 'Upload File Name', 263: 'Upload File Name', 264: 'Upload File Name', 265: 'Upload File Name', 266: 'Upload File Name', 267: 'Upload File Name', 268: 'Upload File Name', 269: 'Upload File Name', 270: 'Upload File Name', 271: 'Upload File Name', 272: 'Upload File Name', 273: 'Upload File Name', 274: 'Upload File Name', 275: 'Upload File Name', 276: 'Upload File Name', 277: 'Upload File Name', 278: 'Upload File Name', 279: 'Upload File Name', 280: 'Upload File Name', 281: 'Upload File Name', 282: 'Upload File Name', 283: 'Upload File Name', 284: 'Upload File Name', 285: 'Upload File Name', 286: 'Upload File Name', 287: 'Upload File Name', 288: 'Upload File Name', 289: 'Upload File Name', 290: 'Upload File Name', 291: 'Upload File Name', 292: 'Upload File Name', 293: 'Upload File Name', 294: 'Upload File Name', 295: 'Upload File Name', 296: 'Upload File Name', 297: 'Upload File Name', 298: 'Upload File Name', 299: 'Upload File Name', 300: 'Upload File Name', 301: 'Upload File Name', 302: 'Upload File Name', 303: 'Upload File Name', 304: 'Upload File Name', 305: 'Upload File Name', 306: 'Upload File Name', 307: 'Upload File Name', 308: 'Upload File Name', 309: 'Upload File Name', 310: 'Upload File Name', 311: 'Upload File Name', 312: 'Upload File Name', 313: 'Upload File Name', 314: 'Upload File Name', 315: 'Upload File Name', 316: 'Upload File Name', 317: 'Upload File Name', 318: 'Upload File Name', 319: 'Upload File Name', 320: 'Upload File Name', 321: 'Upload File Name', 322: 'Upload File Name', 323: 'Upload File Name', 324: 'Upload File Name', 325: 'Upload File Name', 326: 'Upload File Name', 327: 'Upload File Name', 328: 'Upload File Name', 329: 'Upload File Name', 330: 'Upload File Name', 331: 'Upload File Name', 332: 'Upload File Name', 333: 'Upload File Name', 334: 'Upload File Name', 335: 'Upload File Name', 336: 'Upload File Name', 337: 'Upload File Name', 338: 'Upload File Name', 339: 'Upload File Name', 340: 'Upload File Name', 341: 'Upload File Name', 342: 'Upload File Name', 343: 'Upload File Name', 344: 'Upload File Name', 345: 'Upload File Name', 346: 'Upload File Name', 347: 'Upload File Name', 348: 'Upload File Name', 349: 'Upload File Name', 350: 'Upload File Name', 351: 'Upload File Name', 352: 'Upload File Name', 353: 'Upload File Name', 354: 'Upload File Name', 355: 'Upload File Name', 356: 'Upload File Name', 357: 'Upload File Name', 358: 'Upload File Name', 359: 'Upload File Name', 360: 'Upload File Name', 361: 'Upload File Name', 362: 'Upload File Name', 363: 'Upload File Name', 364: 'Upload File Name', 365: 'Upload File Name', 366: 'Upload File Name', 367: 'Upload File Name', 368: 'Upload File Name', 369: 'Upload File Name', 370: 'Upload File Name', 371: 'Upload File Name', 372: 'Upload File Name', 373: 'Upload File Name', 374: 'Upload File Name', 375: 'Upload File Name', 376: 'Upload File Name', 377: 'Upload File Name', 378: 'Upload File Name', 379: 'Upload File Name', 380: 'Upload File Name', 381: 'Upload File Name', 382: 'Upload File Name', 383: 'Upload File Name', 384: 'Upload File Name', 385: 'Upload File Name', 386: 'Upload File Name', 387: 'Upload File Name', 388: 'Upload File Name', 389: 'Upload File Name', 390: 'Upload File Name', 391: 'Upload File Name', 392: 'Upload File Name', 393: 'Upload File Name', 394: 'Upload File Name', 395: 'Upload File Name', 396: 'Upload File Name', 397: 'Upload File Name', 398: 'Upload File Name', 399: 'Upload File Name', 400: 'Upload File Name', 401: 'Upload File Name', 402: 'Upload File Name', 403: 'Upload File Name', 404: 'Upload File Name', 405: 'Upload File Name', 406: 'Upload File Name', 407: 'Upload File Name', 408: 'Upload File Name', 409: 'Upload File Name', 410: 'Upload File Name', 411: 'Upload File Name', 412: 'Upload File Name', 413: 'Upload File Name', 414: 'Upload File Name', 415: 'Upload File Name', 416: 'Upload File Name', 417: 'Upload File Name', 418: 'Upload File Name', 419: 'Upload File Name', 420: 'Upload File Name', 421: 'Upload File Name', 422: 'Upload File Name', 423: 'Upload File Name', 424: 'Upload File Name', 425: 'Upload File Name', 426: 'Upload File Name', 427: 'Upload File Name', 428: 'Upload File Name', 429: 'Upload File Name', 430: 'Upload File Name', 431: 'Upload File Name', 432: 'Upload File Name', 433: 'Upload File Name', 434: 'Upload File Name', 435: 'Upload File Name', 436: 'Upload File Name', 437: 'Upload File Name', 438: 'Upload File Name', 439: 'Upload File Name', 440: 'Upload File Name', 441: 'Upload File Name', 442: 'Upload File Name', 443: 'Upload File Name', 444: 'Upload File Name', 445: 'Upload File Name', 446: 'Upload File Name', 447: 'Upload File Name', 448: 'Upload File Name', 449: 'Upload File Name', 450: 'Upload File Name', 451: 'Upload File Name', 452: 'Upload File Name', 453: 'Upload File Name', 454: 'Upload File Name', 455: 'Upload File Name', 456: 'Upload File Name', 457: 'Upload File Name', 458: 'Upload File Name', 459: 'Upload File Name', 460: 'Upload File Name', 461: 'Upload File Name', 462: 'Upload File Name', 463: 'Upload File Name', 464: 'Upload File Name', 465: 'Upload File Name', 466: 'Upload File Name', 467: 'Upload File Name', 468: 'Upload File Name', 469: 'Upload File Name', 470: 'Upload File Name', 471: 'Upload File Name', 472: 'Upload File Name', 473: 'Upload File Name', 474: 'Upload File Name', 475: 'Upload File Name', 476: 'Upload File Name', 477: 'Upload File Name', 478: 'Upload File Name', 479: 'Upload File Name', 480: 'Upload File Name', 481: 'Upload File Name', 482: 'Upload File Name', 483: 'Upload File Name', 484: 'Upload File Name', 485: 'Upload File Name', 486: 'Upload File Name', 487: 'Upload File Name', 488: 'Upload File Name', 489: 'Upload File Name', 490: 'Upload File Name', 491: 'Upload File Name', 492: 'Upload File Name', 493: 'Upload File Name', 494: 'Upload File Name', 495: 'Upload File Name', 496: 'Upload File Name', 497: 'Upload File Name', 498: 'Upload File Name', 499: 'Upload File Name', 500: 'Upload File Name', 501: 'Upload File Name', 502: 'Upload File Name', 503: 'Upload File Name', 504: 'Upload File Name', 505: 'Upload File Name', 506: 'Upload File Name', 507: 'Upload File Name', 508: 'Upload File Name', 509: 'Upload File Name', 510: 'Upload File Name', 511: 'Upload File Name', 512: 'Upload File Name', 513: 'Upload File Name', 514: 'Upload File Name', 515: 'Upload File Name', 516: 'Upload File Name', 517: 'Upload File Name', 518: 'Upload File Name', 519: 'Upload File Name', 520: 'Upload File Name', 521: 'Upload File Name', 522: 'Upload File Name', 523: 'Upload File Name', 524: 'Upload File Name', 525: 'Upload File Name', 526: 'Upload File Name', 527: 'Upload File Name', 528: 'Upload File Name', 529: 'Upload File Name', 530: 'Upload File Name', 531: 'Upload File Name', 532: 'Upload File Name', 533: 'Upload File Name', 534: 'Upload File Name', 535: 'Upload File Name', 536: 'Upload File Name', 537: 'Upload File Name', 538: 'Upload File Name', 539: 'Upload File Name', 540: 'Upload File Name', 541: 'Upload File Name', 542: 'Upload File Name', 543: 'Upload File Name', 544: 'Upload File Name', 545: 'Upload File Name', 546: 'Upload File Name', 547: 'Upload File Name', 548: 'Upload File Name', 549: 'Upload File Name', 550: 'Upload File Name', 551: 'Upload File Name', 552: 'Upload File Name', 553: 'Upload File Name', 554: 'Upload File Name', 555: 'Upload File Name', 556: 'Upload File Name', 557: 'Upload File Name', 558: 'Upload File Name', 559: 'Upload File Name', 560: 'Upload File Name', 561: 'Upload File Name', 562: 'Upload File Name', 563: 'Upload File Name', 564: 'Upload File Name', 565: 'Upload File Name', 566: 'Upload File Name', 567: 'Upload File Name', 568: 'Upload File Name', 569: 'Upload File Name', 570: 'Upload File Name', 571: 'Upload File Name', 572: 'Upload File Name', 573: 'Upload File Name', 574: 'Upload File Name', 575: 'Upload File Name', 576: 'Upload File Name', 577: 'Upload File Name', 578: 'Upload File Name', 579: 'Upload File Name', 580: 'Upload File Name', 581: 'Upload File Name', 582: 'Upload File Name', 583: 'Upload File Name', 584: 'Upload File Name', 585: 'Upload File Name', 586: 'Upload File Name', 587: 'Upload File Name', 588: 'Upload File Name', 589: 'Upload File Name', 590: 'Upload File Name', 591: 'Upload File Name', 592: 'Upload File Name', 593: 'Upload File Name', 594: 'Upload File Name', 595: 'Upload File Name', 596: 'Upload File Name', 597: 'Upload File Name', 598: 'Upload File Name', 599: 'Upload File Name', 600: 'Upload File Name', 601: 'Upload File Name', 602: 'Upload File Name', 603: 'Upload File Name', 604: 'Upload File Name', 605: 'Upload File Name', 606: 'Upload File Name', 607: 'Upload File Name', 608: 'Upload File Name', 609: 'Upload File Name', 610: 'Upload File Name', 611: 'Upload File Name', 612: 'Upload File Name', 613: 'Upload File Name', 614: 'Upload File Name', 615: 'Upload File Name', 616: 'Upload File Name', 617: 'Upload File Name', 618: 'Upload File Name', 619: 'Upload File Name', 620: 'Upload File Name', 621: 'Upload File Name', 622: 'Upload File Name', 623: 'Upload File Name', 624: 'Upload File Name', 625: 'Upload File Name', 626: 'Upload File Name', 627: 'Upload File Name', 628: 'Upload File Name', 629: 'Upload File Name', 630: 'Upload File Name', 631: 'Upload File Name', 632: 'Upload File Name', 633: 'Upload File Name', 634: 'Upload File Name', 635: 'Upload File Name', 636: 'Upload File Name', 637: 'Upload File Name', 638: 'Upload File Name', 639: 'Upload File Name', 640: 'Upload File Name', 641: 'Upload File Name', 642: 'Upload File Name', 643: 'Upload File Name', 644: 'Upload File Name', 645: 'Upload File Name', 646: 'Upload File Name', 647: 'Upload File Name', 648: 'Upload File Name', 649: 'Upload File Name', 650: 'Upload File Name', 651: 'Upload File Name', 652: 'Upload File Name', 653: 'Upload File Name', 654: 'Upload File Name', 655: 'Upload File Name', 656: 'Upload File Name', 657: 'Upload File Name', 658: 'Upload File Name', 659: 'Upload File Name', 660: 'Upload File Name', 661: 'Upload File Name', 662: 'Upload File Name', 663: 'Upload File Name', 664: 'Upload File Name', 665: 'Upload File Name', 666: 'Upload File Name', 667: 'Upload File Name', 668: 'Upload File Name', 669: 'Upload File Name', 670: 'Upload File Name', 671: 'Upload File Name', 672: 'Upload File Name', 673: 'Upload File Name', 674: 'Upload File Name', 675: 'Upload File Name', 676: 'Upload File Name', 677: 'Upload File Name', 678: 'Upload File Name', 679: 'Upload File Name', 680: 'Upload File Name', 681: 'Upload File Name', 682: 'Upload File Name', 683: 'Upload File Name', 684: 'Upload File Name', 685: 'Upload File Name', 686: 'Upload File Name', 687: 'Upload File Name', 688: 'Upload File Name', 689: 'Upload File Name', 690: 'Upload File Name', 691: 'Upload File Name', 692: 'Upload File Name', 693: 'Upload File Name', 694: 'Upload File Name', 695: 'Upload File Name', 696: 'Upload File Name', 697: 'Upload File Name', 698: 'Upload File Name', 699: 'Upload File Name', 700: 'Upload File Name', 701: 'Upload File Name', 702: 'Upload File Name', 703: 'Upload File Name', 704: 'Upload File Name', 705: 'Upload File Name', 706: 'Upload File Name', 707: 'Upload File Name', 708: 'Upload File Name', 709: 'Upload File Name', 710: 'Upload File Name', 711: 'Upload File Name', 712: 'Upload File Name', 713: 'Upload File Name', 714: 'Upload File Name', 715: 'Upload File Name', 716: 'Upload File Name', 717: 'Upload File Name', 718: 'Upload File Name', 719: 'Upload File Name', 720: 'Upload File Name', 721: 'Upload File Name', 722: 'Upload File Name', 723: 'Upload File Name', 724: 'Upload File Name', 725: 'Upload File Name', 726: 'Upload File Name', 727: 'Upload File Name', 728: 'Upload File Name', 729: 'Upload File Name', 730: 'Upload File Name', 731: 'Upload File Name', 732: 'Upload File Name', 733: 'Upload File Name', 734: 'Upload File Name', 735: 'Upload File Name', 736: 'Upload File Name', 737: 'Upload File Name', 738: 'Upload File Name', 739: 'Upload File Name', 740: 'Upload File Name', 741: 'Upload File Name', 742: 'Upload File Name', 743: 'Upload File Name', 744: 'Upload File Name', 745: 'Upload File Name', 746: 'Upload File Name', 747: 'Upload File Name', 748: 'Upload File Name', 749: 'Upload File Name', 750: 'Upload File Name', 751: 'Upload File Name', 752: 'Upload File Name', 753: 'Upload File Name', 754: 'Upload File Name', 755: 'Upload File Name', 756: 'Upload File Name', 757: 'Upload File Name', 758: 'Upload File Name', 759: 'Upload File Name', 760: 'Upload File Name', 761: 'Upload File Name', 762: 'Upload File Name', 763: 'Upload File Name', 764: 'Upload File Name', 765: 'Upload File Name', 766: 'Upload File Name', 767: 'Upload File Name', 768: 'Upload File Name', 769: 'Upload File Name', 770: 'Upload File Name', 771: 'Upload File Name', 772: 'Upload File Name', 773: 'Upload File Name', 774: 'Upload File Name', 775: 'Upload File Name', 776: 'Upload File Name', 777: 'Upload File Name', 778: 'Upload File Name', 779: 'Upload File Name', 780: 'Upload File Name', 781: 'Upload File Name', 782: 'Upload File Name', 783: 'Upload File Name', 784: 'Upload File Name', 785: 'Upload File Name', 786: 'Upload File Name', 787: 'Upload File Name', 788: 'Upload File Name', 789: 'Upload File Name', 790: 'Upload File Name', 791: 'Upload File Name', 792: 'Upload File Name', 793: 'Upload File Name', 794: 'Upload File Name', 795: 'Upload File Name', 796: 'Upload File Name', 797: 'Upload File Name', 798: 'Upload File Name', 799: 'Upload File Name', 800: 'Upload File Name', 801: 'Upload File Name', 802: 'Upload File Name', 803: 'Upload File Name', 804: 'Upload File Name', 805: 'Upload File Name', 806: 'Upload File Name', 807: 'Upload File Name', 808: 'Upload File Name', 809: 'Upload File Name', 810: 'Upload File Name', 811: 'Upload File Name', 812: 'Upload File Name', 813: 'Upload File Name', 814: 'Upload File Name', 815: 'Upload File Name', 816: 'Upload File Name', 817: 'Upload File Name', 818: 'Upload File Name', 819: 'Upload File Name', 820: 'Upload File Name', 821: 'Upload File Name', 822: 'Upload File Name', 823: 'Upload File Name', 824: 'Upload File Name', 825: 'Upload File Name', 826: 'Upload File Name', 827: 'Upload File Name', 828: 'Upload File Name', 829: 'Upload File Name', 830: 'Upload File Name', 831: 'Upload File Name', 832: 'Upload File Name', 833: 'Upload File Name', 834: 'Upload File Name', 835: 'Upload File Name', 836: 'Upload File Name', 837: 'Upload File Name', 838: 'Upload File Name', 839: 'Upload File Name', 840: 'Upload File Name', 841: 'Upload File Name', 842: 'Upload File Name', 843: 'Upload File Name', 844: 'Upload File Name', 845: 'Upload File Name', 846: 'Upload File Name', 847: 'Upload File Name', 848: 'Upload File Name', 849: 'Upload File Name', 850: 'Upload File Name', 851: 'Upload File Name', 852: 'Upload File Name', 853: 'Upload File Name', 854: 'Upload File Name', 855: 'Upload File Name', 856: 'Upload File Name', 857: 'Upload File Name', 858: 'Upload File Name', 859: 'Upload File Name', 860: 'Upload File Name', 861: 'Upload File Name', 862: 'Upload File Name', 863: 'Upload File Name', 864: 'Upload File Name', 865: 'Upload File Name', 866: 'Upload File Name', 867: 'Upload File Name', 868: 'Upload File Name', 869: 'Upload File Name', 870: 'Upload File Name', 871: 'Upload File Name', 872: 'Upload File Name', 873: 'Upload File Name', 874: 'Upload File Name', 875: 'Upload File Name', 876: 'Upload File Name', 877: 'Upload File Name', 878: 'Upload File Name', 879: 'Upload File Name', 880: 'Upload File Name', 881: 'Upload File Name', 882: 'Upload File Name', 883: 'Upload File Name', 884: 'Upload File Name', 885: 'Upload File Name', 886: 'Upload File Name', 887: 'Upload File Name', 888: 'Upload File Name', 889: 'Upload File Name', 890: 'Upload File Name', 891: 'Upload File Name', 892: 'Upload File Name', 893: 'Upload File Name', 894: 'Upload File Name', 895: 'Upload File Name', 896: 'Upload File Name', 897: 'Upload File Name', 898: 'Upload File Name', 899: 'Upload File Name', 900: 'Upload File Name', 901: 'Upload File Name', 902: 'Upload File Name', 903: 'Upload File Name', 904: 'Upload File Name', 905: 'Upload File Name', 906: 'Upload File Name', 907: 'Upload File Name', 908: 'Upload File Name', 909: 'Upload File Name', 910: 'Upload File Name', 911: 'Upload File Name', 912: 'Upload File Name', 913: 'Upload File Name', 914: 'Upload File Name', 915: 'Upload File Name', 916: 'Upload File Name', 917: 'Upload File Name', 918: 'Upload File Name', 919: 'Upload File Name', 920: 'Upload File Name', 921: 'Upload File Name', 922: 'Upload File Name', 923: 'Upload File Name', 924: 'Upload File Name', 925: 'Upload File Name', 926: 'Upload File Name', 927: 'Upload File Name', 928: 'Upload File Name', 929: 'Upload File Name', 930: 'Upload File Name', 931: 'Upload File Name', 932: 'Upload File Name', 933: 'Upload File Name', 934: 'Upload File Name', 935: 'Upload File Name', 936: 'Upload File Name', 937: 'Upload File Name', 938: 'Upload File Name', 939: 'Upload File Name', 940: 'Upload File Name', 941: 'Upload File Name', 942: 'Upload File Name', 943: 'Upload File Name', 944: 'Upload File Name', 945: 'Upload File Name', 946: 'Upload File Name', 947: 'Upload File Name', 948: 'Upload File Name', 949: 'Upload File Name', 950: 'Upload File Name', 951: 'Upload File Name', 952: 'Upload File Name', 953: 'Upload File Name', 954: 'Upload File Name', 955: 'Upload File Name', 956: 'Upload File Name', 957: 'Upload File Name', 958: 'Upload File Name', 959: 'Upload File Name', 960: 'Upload File Name', 961: 'Upload File Name', 962: 'Upload File Name', 963: 'Upload File Name', 964: 'Upload File Name', 965: 'Upload File Name', 966: 'Upload File Name', 967: 'Upload File Name', 968: 'Upload File Name', 969: 'Upload File Name', 970: 'Upload File Name', 971: 'Upload File Name', 972: 'Upload File Name', 973: 'Upload File Name', 974: 'Upload File Name', 975: 'Upload File Name', 976: 'Upload File Name', 977: 'Upload File Name', 978: 'Upload File Name', 979: 'Upload File Name', 980: 'Upload File Name', 981: 'Upload File Name', 982: 'Upload File Name', 983: 'Upload File Name', 984: 'Upload File Name', 985: 'Upload File Name', 986: 'Upload File Name', 987: 'Upload File Name', 988: 'Upload File Name', 989: 'Upload File Name', 990: 'Upload File Name', 991: 'Upload File Name', 992: 'Upload File Name', 993: 'Upload File Name', 994: 'Upload File Name', 995: 'Upload File Name', 996: 'Upload File Name', 997: 'Upload File Name', 998: 'Upload File Name', 999: 'Upload File Name'}\n"
     ]
    }
   ],
   "source": [
    "\n",
    "\n",
    "#check dataframe for missing blocks.  err is empty if no errors - otherwise an err str\n",
    "err = check_df(df, required_columns=REQUIRED_COLUMNS, required_values=REQUIRED_VALUES)\n",
    "if err:\n",
    "    print(str(err))\n",
    "    Exception(err)\n",
    "    \n",
    "LOGGER.info(\"Loaded %d clean rows\", len(df))"
   ],
   "metadata": {
    "collapsed": false,
    "ExecuteTime": {
     "end_time": "2024-03-24T23:27:09.872681Z",
     "start_time": "2024-03-24T23:27:09.862565Z"
    }
   },
   "execution_count": 52
  },
  {
   "cell_type": "code",
   "outputs": [
    {
     "name": "stdout",
     "output_type": "stream",
     "text": [
      "2024-03-22 21:00:25+07:00\n",
      "2024-03-22 14:00:25+00:00\n"
     ]
    }
   ],
   "source": [
    "df.head()\n",
    "\n",
    "# Assuming date_string is your datetime string\n",
    "date_string = \"March 22, 2024 9:00:25 PM PDT\"\n",
    "\n",
    "# Replace PDT with UTC-7\n",
    "date_string = date_string.replace(\"PDT\", \"UTC-7\")\n",
    "\n",
    "# Use pandas to parse the string into a datetime\n",
    "dt = pd.to_datetime(date_string)\n",
    "\n",
    "# Print the datetime\n",
    "print(dt)\n",
    "\n",
    "dt_utc = dt.astimezone(pytz.UTC)\n",
    "print(dt_utc)\n",
    "\n"
   ],
   "metadata": {
    "collapsed": false,
    "ExecuteTime": {
     "end_time": "2024-03-24T23:27:13.768971Z",
     "start_time": "2024-03-24T23:27:13.762472Z"
    }
   },
   "execution_count": 53
  },
  {
   "cell_type": "code",
   "execution_count": 54,
   "outputs": [
    {
     "name": "stderr",
     "output_type": "stream",
     "text": [
      "Date-range min: 2024-01-22 14:00:11+00:00\n",
      "Date-range max: 2024-03-26 14:00:26+00:00\n",
      "Date-range min: 2024-01-22\n",
      "Date-range max: 2024-03-26\n"
     ]
    },
    {
     "data": {
      "text/plain": "   No.                     Event Time   User  \\\n0  130  March 22, 2024 9:00:04 PM PDT  AAAAA   \n1  131  March 22, 2024 9:00:04 PM PDT  AAAAA   \n2  151  March 22, 2024 9:00:05 PM PDT  AAAAA   \n3  152  March 22, 2024 9:00:05 PM PDT  AAAAA   \n4  368  March 22, 2024 9:00:12 PM PDT  AAAAA   \n\n                                                 URL Policy Action  \\\n0  d.la1-core1.sfdc-lywfpd.salesforceliveagent.co...       Allowed   \n1  d.la1-core1.sfdc-lywfpd.salesforceliveagent.co...       Allowed   \n2                                chat.google.com:443       Allowed   \n3           chat.google.com/u/0/_/dynamitewebui/idv/       Allowed   \n4  d.la1-core2.sfdc-lywfpd.salesforceliveagent.co...       Allowed   \n\n      Cloud Application Class Cloud Application     URL Class  \\\n0  Productivity and CRM Tools        Salesforce  Business Use   \n1  Productivity and CRM Tools        Salesforce  Business Use   \n2           Instant Messaging       Google Chat  Business Use   \n3           Instant Messaging       Google Chat  Business Use   \n4  Productivity and CRM Tools        Salesforce  Business Use   \n\n       URL Super Category           URL Category  ...  ALPN Protocol  \\\n0    Business and Economy  Professional Services  ...            NaN   \n1    Business and Economy  Professional Services  ...            NaN   \n2  Internet Communication            Online Chat  ...            NaN   \n3  Internet Communication            Online Chat  ...            NaN   \n4    Business and Economy  Professional Services  ...            NaN   \n\n   Unscannable Type Forwarding Rule Forwarding Method Application Segment  \\\n0               NaN             NaN               NaN                 NaN   \n1               NaN             NaN               NaN                 NaN   \n2               NaN             NaN               NaN                 NaN   \n3               NaN             NaN               NaN                 NaN   \n4               NaN             NaN               NaN                 NaN   \n\n   Gateway IP Gateway Name Upload File Name                  datetime  \\\n0         NaN          NaN              NaN 2024-03-22 14:00:04+00:00   \n1         NaN          NaN              NaN 2024-03-22 14:00:04+00:00   \n2         NaN          NaN              NaN 2024-03-22 14:00:05+00:00   \n3         NaN          NaN              NaN 2024-03-22 14:00:05+00:00   \n4         NaN          NaN              NaN 2024-03-22 14:00:12+00:00   \n\n         date  \n0  2024-03-22  \n1  2024-03-22  \n2  2024-03-22  \n3  2024-03-22  \n4  2024-03-22  \n\n[5 rows x 35 columns]",
      "text/html": "<div>\n<style scoped>\n    .dataframe tbody tr th:only-of-type {\n        vertical-align: middle;\n    }\n\n    .dataframe tbody tr th {\n        vertical-align: top;\n    }\n\n    .dataframe thead th {\n        text-align: right;\n    }\n</style>\n<table border=\"1\" class=\"dataframe\">\n  <thead>\n    <tr style=\"text-align: right;\">\n      <th></th>\n      <th>No.</th>\n      <th>Event Time</th>\n      <th>User</th>\n      <th>URL</th>\n      <th>Policy Action</th>\n      <th>Cloud Application Class</th>\n      <th>Cloud Application</th>\n      <th>URL Class</th>\n      <th>URL Super Category</th>\n      <th>URL Category</th>\n      <th>...</th>\n      <th>ALPN Protocol</th>\n      <th>Unscannable Type</th>\n      <th>Forwarding Rule</th>\n      <th>Forwarding Method</th>\n      <th>Application Segment</th>\n      <th>Gateway IP</th>\n      <th>Gateway Name</th>\n      <th>Upload File Name</th>\n      <th>datetime</th>\n      <th>date</th>\n    </tr>\n  </thead>\n  <tbody>\n    <tr>\n      <th>0</th>\n      <td>130</td>\n      <td>March 22, 2024 9:00:04 PM PDT</td>\n      <td>AAAAA</td>\n      <td>d.la1-core1.sfdc-lywfpd.salesforceliveagent.co...</td>\n      <td>Allowed</td>\n      <td>Productivity and CRM Tools</td>\n      <td>Salesforce</td>\n      <td>Business Use</td>\n      <td>Business and Economy</td>\n      <td>Professional Services</td>\n      <td>...</td>\n      <td>NaN</td>\n      <td>NaN</td>\n      <td>NaN</td>\n      <td>NaN</td>\n      <td>NaN</td>\n      <td>NaN</td>\n      <td>NaN</td>\n      <td>NaN</td>\n      <td>2024-03-22 14:00:04+00:00</td>\n      <td>2024-03-22</td>\n    </tr>\n    <tr>\n      <th>1</th>\n      <td>131</td>\n      <td>March 22, 2024 9:00:04 PM PDT</td>\n      <td>AAAAA</td>\n      <td>d.la1-core1.sfdc-lywfpd.salesforceliveagent.co...</td>\n      <td>Allowed</td>\n      <td>Productivity and CRM Tools</td>\n      <td>Salesforce</td>\n      <td>Business Use</td>\n      <td>Business and Economy</td>\n      <td>Professional Services</td>\n      <td>...</td>\n      <td>NaN</td>\n      <td>NaN</td>\n      <td>NaN</td>\n      <td>NaN</td>\n      <td>NaN</td>\n      <td>NaN</td>\n      <td>NaN</td>\n      <td>NaN</td>\n      <td>2024-03-22 14:00:04+00:00</td>\n      <td>2024-03-22</td>\n    </tr>\n    <tr>\n      <th>2</th>\n      <td>151</td>\n      <td>March 22, 2024 9:00:05 PM PDT</td>\n      <td>AAAAA</td>\n      <td>chat.google.com:443</td>\n      <td>Allowed</td>\n      <td>Instant Messaging</td>\n      <td>Google Chat</td>\n      <td>Business Use</td>\n      <td>Internet Communication</td>\n      <td>Online Chat</td>\n      <td>...</td>\n      <td>NaN</td>\n      <td>NaN</td>\n      <td>NaN</td>\n      <td>NaN</td>\n      <td>NaN</td>\n      <td>NaN</td>\n      <td>NaN</td>\n      <td>NaN</td>\n      <td>2024-03-22 14:00:05+00:00</td>\n      <td>2024-03-22</td>\n    </tr>\n    <tr>\n      <th>3</th>\n      <td>152</td>\n      <td>March 22, 2024 9:00:05 PM PDT</td>\n      <td>AAAAA</td>\n      <td>chat.google.com/u/0/_/dynamitewebui/idv/</td>\n      <td>Allowed</td>\n      <td>Instant Messaging</td>\n      <td>Google Chat</td>\n      <td>Business Use</td>\n      <td>Internet Communication</td>\n      <td>Online Chat</td>\n      <td>...</td>\n      <td>NaN</td>\n      <td>NaN</td>\n      <td>NaN</td>\n      <td>NaN</td>\n      <td>NaN</td>\n      <td>NaN</td>\n      <td>NaN</td>\n      <td>NaN</td>\n      <td>2024-03-22 14:00:05+00:00</td>\n      <td>2024-03-22</td>\n    </tr>\n    <tr>\n      <th>4</th>\n      <td>368</td>\n      <td>March 22, 2024 9:00:12 PM PDT</td>\n      <td>AAAAA</td>\n      <td>d.la1-core2.sfdc-lywfpd.salesforceliveagent.co...</td>\n      <td>Allowed</td>\n      <td>Productivity and CRM Tools</td>\n      <td>Salesforce</td>\n      <td>Business Use</td>\n      <td>Business and Economy</td>\n      <td>Professional Services</td>\n      <td>...</td>\n      <td>NaN</td>\n      <td>NaN</td>\n      <td>NaN</td>\n      <td>NaN</td>\n      <td>NaN</td>\n      <td>NaN</td>\n      <td>NaN</td>\n      <td>NaN</td>\n      <td>2024-03-22 14:00:12+00:00</td>\n      <td>2024-03-22</td>\n    </tr>\n  </tbody>\n</table>\n<p>5 rows × 35 columns</p>\n</div>"
     },
     "execution_count": 54,
     "metadata": {},
     "output_type": "execute_result"
    }
   ],
   "source": [
    "# Parse the string into a datetime object\n",
    "#  Assume the date is in a format like this: \"March 22, 2024 9:00:25 PM PDT\"\n",
    "def convert_date(s:str) ->str:     \n",
    "    # Replace PDT with UTC-7\n",
    "    s = s.replace(\"PDT\", \"UTC-7\")\n",
    "    dt =  pd.to_datetime(s)\n",
    "    # Convert the datetime object to UTC\n",
    "    dt_utc = dt.astimezone(pytz.UTC)\n",
    "    return dt_utc\n",
    "\n",
    "df['datetime'] = df['Event Time'].apply(convert_date)\n",
    "df['date']  = pd.to_datetime(df['datetime'], format='%Y-%m-%d').dt.date\n",
    "\n",
    "\n",
    "LOGGER.info(\"Date-range min: %s\", df['datetime'].min())\n",
    "LOGGER.info(\"Date-range max: %s\", df['datetime'].max())\n",
    "\n",
    "LOGGER.info(\"Date-range min: %s\", df['date'].min())\n",
    "LOGGER.info(\"Date-range max: %s\", df['date'].max())\n",
    "\n",
    "df.head()\n"
   ],
   "metadata": {
    "collapsed": false,
    "ExecuteTime": {
     "end_time": "2024-03-24T23:27:15.258265Z",
     "start_time": "2024-03-24T23:27:14.965555Z"
    }
   }
  },
  {
   "cell_type": "code",
   "outputs": [],
   "source": [
    "def count_by(col:str, df:pd.DataFrame)->pd.DataFrame:\n",
    "    _df = df.groupby([col]).size().reset_index(name='count')\n",
    "    _df.columns = [col, 'count']\n",
    "    _df.sort_values(by='count', ascending=False, inplace=True)\n",
    "    return _df"
   ],
   "metadata": {
    "collapsed": false,
    "ExecuteTime": {
     "end_time": "2024-03-24T23:32:24.805471Z",
     "start_time": "2024-03-24T23:32:24.802142Z"
    }
   },
   "execution_count": 59
  },
  {
   "cell_type": "code",
   "outputs": [
    {
     "data": {
      "text/plain": "                              URL  count\n112    client.wns.windows.com:443     74\n111        client.wns.windows.com     68\n205  landscape.canonical.com/ping     30\n201       itam.assetsonar.com:443     23\n281              s3.amazonaws.com     22",
      "text/html": "<div>\n<style scoped>\n    .dataframe tbody tr th:only-of-type {\n        vertical-align: middle;\n    }\n\n    .dataframe tbody tr th {\n        vertical-align: top;\n    }\n\n    .dataframe thead th {\n        text-align: right;\n    }\n</style>\n<table border=\"1\" class=\"dataframe\">\n  <thead>\n    <tr style=\"text-align: right;\">\n      <th></th>\n      <th>URL</th>\n      <th>count</th>\n    </tr>\n  </thead>\n  <tbody>\n    <tr>\n      <th>112</th>\n      <td>client.wns.windows.com:443</td>\n      <td>74</td>\n    </tr>\n    <tr>\n      <th>111</th>\n      <td>client.wns.windows.com</td>\n      <td>68</td>\n    </tr>\n    <tr>\n      <th>205</th>\n      <td>landscape.canonical.com/ping</td>\n      <td>30</td>\n    </tr>\n    <tr>\n      <th>201</th>\n      <td>itam.assetsonar.com:443</td>\n      <td>23</td>\n    </tr>\n    <tr>\n      <th>281</th>\n      <td>s3.amazonaws.com</td>\n      <td>22</td>\n    </tr>\n  </tbody>\n</table>\n</div>"
     },
     "execution_count": 60,
     "metadata": {},
     "output_type": "execute_result"
    }
   ],
   "source": [
    "df_url = count_by('URL', df)\n",
    "df_url.head()"
   ],
   "metadata": {
    "collapsed": false,
    "ExecuteTime": {
     "end_time": "2024-03-24T23:32:25.277024Z",
     "start_time": "2024-03-24T23:32:25.270873Z"
    }
   },
   "execution_count": 60
  },
  {
   "cell_type": "code",
   "outputs": [
    {
     "data": {
      "text/plain": "                 Cloud Application  count\n9   Common Office 365 Applications    269\n50                           Slack     65\n5              Amazon Web Services     57\n16                     DoubleClick     48\n10                          Criteo     48",
      "text/html": "<div>\n<style scoped>\n    .dataframe tbody tr th:only-of-type {\n        vertical-align: middle;\n    }\n\n    .dataframe tbody tr th {\n        vertical-align: top;\n    }\n\n    .dataframe thead th {\n        text-align: right;\n    }\n</style>\n<table border=\"1\" class=\"dataframe\">\n  <thead>\n    <tr style=\"text-align: right;\">\n      <th></th>\n      <th>Cloud Application</th>\n      <th>count</th>\n    </tr>\n  </thead>\n  <tbody>\n    <tr>\n      <th>9</th>\n      <td>Common Office 365 Applications</td>\n      <td>269</td>\n    </tr>\n    <tr>\n      <th>50</th>\n      <td>Slack</td>\n      <td>65</td>\n    </tr>\n    <tr>\n      <th>5</th>\n      <td>Amazon Web Services</td>\n      <td>57</td>\n    </tr>\n    <tr>\n      <th>16</th>\n      <td>DoubleClick</td>\n      <td>48</td>\n    </tr>\n    <tr>\n      <th>10</th>\n      <td>Criteo</td>\n      <td>48</td>\n    </tr>\n  </tbody>\n</table>\n</div>"
     },
     "execution_count": 63,
     "metadata": {},
     "output_type": "execute_result"
    }
   ],
   "source": [
    "df_app = count_by('Cloud Application', df)\n",
    "df_app.head()\n",
    "\n"
   ],
   "metadata": {
    "collapsed": false,
    "ExecuteTime": {
     "end_time": "2024-03-24T23:33:44.273463Z",
     "start_time": "2024-03-24T23:33:44.263987Z"
    }
   },
   "execution_count": 63
  },
  {
   "cell_type": "code",
   "outputs": [],
   "source": [
    "df_appclass = count_by('Cloud Application Class', df)\n",
    "df_appclass.head()"
   ],
   "metadata": {
    "collapsed": false
   }
  },
  {
   "cell_type": "code",
   "outputs": [],
   "source": [
    "################################\n",
    "# URL Access by user\n",
    "#for each URL - count the number of access by each unique user.    \n",
    "#  this allows multiple per users per day. \n",
    "df_url_by_user = df.groupby(['user', 'url']).size().reset_index(name='count')\n",
    "df_url_by_user.columns = ['user', 'url', 'count']\n",
    "df_url_by_user.sort_values(by='count', ascending=False, inplace=True)\n",
    "df_url_by_user.head(10)"
   ],
   "metadata": {
    "collapsed": false
   },
   "execution_count": null
  },
  {
   "cell_type": "code",
   "outputs": [],
   "source": [],
   "metadata": {
    "collapsed": false
   },
   "execution_count": null
  }
 ],
 "metadata": {
  "kernelspec": {
   "display_name": "Python 3",
   "language": "python",
   "name": "python3"
  },
  "language_info": {
   "name": "python",
   "version": "3.11.0 (main, Oct 25 2022, 13:57:33) [Clang 14.0.0 (clang-1400.0.29.202)]"
  },
  "orig_nbformat": 4,
  "vscode": {
   "interpreter": {
    "hash": "5c7b89af1651d0b8571dde13640ecdccf7d5a6204171d6ab33e7c296e100e08a"
   }
  }
 },
 "nbformat": 4,
 "nbformat_minor": 2
}
