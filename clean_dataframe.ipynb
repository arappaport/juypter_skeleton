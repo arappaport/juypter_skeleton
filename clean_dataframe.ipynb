{
 "cells": [
  {
   "cell_type": "code",
   "execution_count": 117,
   "metadata": {
    "ExecuteTime": {
     "end_time": "2023-12-23T19:16:58.983141Z",
     "start_time": "2023-12-23T19:16:58.977747Z"
    }
   },
   "outputs": [],
   "source": [
    "# Examples on how to check and clean a dataframe - such as after loading from CSV\n"
   ]
  },
  {
   "cell_type": "code",
   "execution_count": 118,
   "outputs": [
    {
     "name": "stderr",
     "output_type": "stream",
     "text": [
      "log level = 10\n"
     ]
    },
    {
     "data": {
      "text/plain": "          label         text  int  end\n0    r-empty-ok          NaN  1.0  end\n1       r-sp-ok          NaN  2.0  end\n2  r-leading-ok   leading_sp  3.0  end\n3    r-ok-empty          val  NaN  end\n4   r-ok-spaces          val  NaN  end\n5  r-ok-leading          val  4.0  end\n6        r-good          val  0.0  end\n7   r-All Empty          NaN  NaN  NaN\n8           NaN  Empty Label  NaN  NaN",
      "text/html": "<div>\n<style scoped>\n    .dataframe tbody tr th:only-of-type {\n        vertical-align: middle;\n    }\n\n    .dataframe tbody tr th {\n        vertical-align: top;\n    }\n\n    .dataframe thead th {\n        text-align: right;\n    }\n</style>\n<table border=\"1\" class=\"dataframe\">\n  <thead>\n    <tr style=\"text-align: right;\">\n      <th></th>\n      <th>label</th>\n      <th>text</th>\n      <th>int</th>\n      <th>end</th>\n    </tr>\n  </thead>\n  <tbody>\n    <tr>\n      <th>0</th>\n      <td>r-empty-ok</td>\n      <td>NaN</td>\n      <td>1.0</td>\n      <td>end</td>\n    </tr>\n    <tr>\n      <th>1</th>\n      <td>r-sp-ok</td>\n      <td>NaN</td>\n      <td>2.0</td>\n      <td>end</td>\n    </tr>\n    <tr>\n      <th>2</th>\n      <td>r-leading-ok</td>\n      <td>leading_sp</td>\n      <td>3.0</td>\n      <td>end</td>\n    </tr>\n    <tr>\n      <th>3</th>\n      <td>r-ok-empty</td>\n      <td>val</td>\n      <td>NaN</td>\n      <td>end</td>\n    </tr>\n    <tr>\n      <th>4</th>\n      <td>r-ok-spaces</td>\n      <td>val</td>\n      <td>NaN</td>\n      <td>end</td>\n    </tr>\n    <tr>\n      <th>5</th>\n      <td>r-ok-leading</td>\n      <td>val</td>\n      <td>4.0</td>\n      <td>end</td>\n    </tr>\n    <tr>\n      <th>6</th>\n      <td>r-good</td>\n      <td>val</td>\n      <td>0.0</td>\n      <td>end</td>\n    </tr>\n    <tr>\n      <th>7</th>\n      <td>r-All Empty</td>\n      <td>NaN</td>\n      <td>NaN</td>\n      <td>NaN</td>\n    </tr>\n    <tr>\n      <th>8</th>\n      <td>NaN</td>\n      <td>Empty Label</td>\n      <td>NaN</td>\n      <td>NaN</td>\n    </tr>\n  </tbody>\n</table>\n</div>"
     },
     "execution_count": 118,
     "metadata": {},
     "output_type": "execute_result"
    }
   ],
   "source": [
    "import pandas as pd\n",
    "import logging\n",
    "from datetime import date, timedelta\n",
    "import numpy as np\n",
    "import seaborn as sns\n",
    "\n",
    "logging.basicConfig(level=logging.DEBUG, format=\"%(message)s\")\n",
    "LOGGER = logging.getLogger(__name__)\n",
    "LOGGER.debug(\"log level = %s\", str(LOGGER.getEffectiveLevel()))\n",
    "\n",
    "\n",
    "#Columns that must be in the CSV. \n",
    "REQUIRED_COLUMNS=['label','text','int','end']\n",
    "\n",
    "#Columns that must have non-empty values. \n",
    "REQUIRED_VALUES=['label','text','int']\n",
    "\n",
    "df = pd.read_csv(\"./data/test_clean.csv\", skipinitialspace=True)\n",
    "df.head(12)\n"
   ],
   "metadata": {
    "collapsed": false,
    "ExecuteTime": {
     "end_time": "2023-12-23T19:16:59.143887Z",
     "start_time": "2023-12-23T19:16:59.130387Z"
    }
   }
  },
  {
   "cell_type": "code",
   "execution_count": 121,
   "outputs": [],
   "source": [
    "\n",
    "def find_blanks(df:pd.DataFrame, required_columns:[str]=None, required_values:[str]=None,)->None:\n",
    "    \"\"\"\n",
    "    Check and clean values in dataframe. Original df is returned unchanged or throws exception\n",
    "    :param df:   raw dataframe.   \n",
    "    :param required_columns: optional - Names of df columns that must be present - even if empty\n",
    "    :param required_values: optional - Names of df columns that must have values.  Error if any of them have missing values. \n",
    "    :return:  None.   Throws exceptions if errors\n",
    "    \"\"\"\n",
    "    if required_columns:\n",
    "        missing_cols = set(required_columns) - set(df.columns)\n",
    "        if missing_cols:\n",
    "            raise Exception(f\"Invalid CSV. Missing required columns: {', '.join(missing_cols)}\")\n",
    "    \n",
    "    if required_values:\n",
    "        df_req = df[required_values]\n",
    "        \n",
    "        num_null =  df_req.isnull().sum().sum()\n",
    "        LOGGER.debug(\"Num empty required cells in dataframe: %d\", num_null)\n",
    "        \n",
    "        if num_null:\n",
    "            err = {row:required_values[col] for row, col in zip(*df_req.isnull().values.nonzero())}                        \n",
    "            msg = f\"Data error. Dataframe contained {num_null} empty cells in required columns {required_columns}. List shows the row index and column names of the FIRST ERROR IN ROWS with blanks.  {err}\"\n",
    "            LOGGER.warning(msg)            \n",
    "            raise Exception(msg)"
   ],
   "metadata": {
    "collapsed": false,
    "ExecuteTime": {
     "end_time": "2023-12-23T19:19:32.853435Z",
     "start_time": "2023-12-23T19:19:32.844226Z"
    }
   }
  },
  {
   "cell_type": "code",
   "outputs": [
    {
     "name": "stderr",
     "output_type": "stream",
     "text": [
      "Num empty required cells in dataframe: 8\n",
      "Data error. Dataframe contained 8 empty cells in required columns ['label', 'text', 'int', 'end']. List shows the row index and column names of the FIRST ERROR IN ROWS with blanks.  {0: 'text', 1: 'text', 3: 'int', 4: 'int', 7: 'int', 8: 'int'}\n"
     ]
    },
    {
     "ename": "Exception",
     "evalue": "Data error. Dataframe contained 8 empty cells in required columns ['label', 'text', 'int', 'end']. List shows the row index and column names of the FIRST ERROR IN ROWS with blanks.  {0: 'text', 1: 'text', 3: 'int', 4: 'int', 7: 'int', 8: 'int'}",
     "output_type": "error",
     "traceback": [
      "\u001B[0;31m---------------------------------------------------------------------------\u001B[0m",
      "\u001B[0;31mException\u001B[0m                                 Traceback (most recent call last)",
      "Cell \u001B[0;32mIn[122], line 1\u001B[0m\n\u001B[0;32m----> 1\u001B[0m \u001B[43mfind_blanks\u001B[49m\u001B[43m(\u001B[49m\u001B[43mdf\u001B[49m\u001B[43m,\u001B[49m\u001B[43mREQUIRED_COLUMNS\u001B[49m\u001B[43m,\u001B[49m\u001B[43m \u001B[49m\u001B[43mREQUIRED_VALUES\u001B[49m\u001B[43m)\u001B[49m\n\u001B[1;32m      2\u001B[0m df\u001B[38;5;241m.\u001B[39mhead(\u001B[38;5;241m20\u001B[39m)\n",
      "Cell \u001B[0;32mIn[121], line 24\u001B[0m, in \u001B[0;36mfind_blanks\u001B[0;34m(df, required_columns, required_values)\u001B[0m\n\u001B[1;32m     22\u001B[0m msg \u001B[38;5;241m=\u001B[39m \u001B[38;5;124mf\u001B[39m\u001B[38;5;124m\"\u001B[39m\u001B[38;5;124mData error. Dataframe contained \u001B[39m\u001B[38;5;132;01m{\u001B[39;00mnum_null\u001B[38;5;132;01m}\u001B[39;00m\u001B[38;5;124m empty cells in required columns \u001B[39m\u001B[38;5;132;01m{\u001B[39;00mrequired_columns\u001B[38;5;132;01m}\u001B[39;00m\u001B[38;5;124m. List shows the row index and column names of the FIRST ERROR IN ROWS with blanks.  \u001B[39m\u001B[38;5;132;01m{\u001B[39;00merr\u001B[38;5;132;01m}\u001B[39;00m\u001B[38;5;124m\"\u001B[39m\n\u001B[1;32m     23\u001B[0m LOGGER\u001B[38;5;241m.\u001B[39mwarning(msg)            \n\u001B[0;32m---> 24\u001B[0m \u001B[38;5;28;01mraise\u001B[39;00m \u001B[38;5;167;01mException\u001B[39;00m(msg)\n",
      "\u001B[0;31mException\u001B[0m: Data error. Dataframe contained 8 empty cells in required columns ['label', 'text', 'int', 'end']. List shows the row index and column names of the FIRST ERROR IN ROWS with blanks.  {0: 'text', 1: 'text', 3: 'int', 4: 'int', 7: 'int', 8: 'int'}"
     ]
    }
   ],
   "source": [
    "find_blanks(df,REQUIRED_COLUMNS, REQUIRED_VALUES)\n",
    "df.head(20)"
   ],
   "metadata": {
    "collapsed": false,
    "ExecuteTime": {
     "end_time": "2023-12-23T19:19:33.242183Z",
     "start_time": "2023-12-23T19:19:33.222182Z"
    }
   },
   "execution_count": 122
  },
  {
   "cell_type": "code",
   "outputs": [],
   "source": [],
   "metadata": {
    "collapsed": false,
    "ExecuteTime": {
     "end_time": "2023-12-23T19:17:02.422985Z",
     "start_time": "2023-12-23T19:17:02.419680Z"
    }
   },
   "execution_count": 120
  },
  {
   "cell_type": "code",
   "outputs": [],
   "source": [
    "def trim_all(df:pd.DataFrame):\n",
    "    df_trimmed = df.map(lambda x: x.strip() if isinstance(x, str) else x)\n",
    "    return df_trimmed"
   ],
   "metadata": {
    "collapsed": false
   },
   "execution_count": null
  },
  {
   "cell_type": "code",
   "outputs": [],
   "source": [
    "#Does trimming after this type of CSV load make a difference?  Answer NO. \n",
    "df_trimmed = trim_all(df)\n",
    "comparison = df.compare(df_trimmed)\n",
    "print(comparison)\n"
   ],
   "metadata": {
    "collapsed": false
   },
   "execution_count": null
  },
  {
   "cell_type": "code",
   "outputs": [],
   "source": [
    "def find_blanks(df):\n",
    "    # Print locations of null cells\n",
    "    print(\"Null cells:\")\n",
    "    for row, col in zip(*df.isnull().values.nonzero()):\n",
    "        print(f\"Row {row + 1}, Column {col + 1}\")\n",
    "\n",
    "    # Print locations of empty strings\n",
    "    print(\"\\nEmpty strings:\")\n",
    "    for row in df[df.eq('')].index:\n",
    "        print(f\"Row {row + 1}\")\n",
    "\n",
    "    # Print locations of spaces or nulls\n",
    "#    print(\"\\nSpaces or nulls:\")\n",
    "#    for row, col in zip(*df.str.strip().isnull().values.nonzero()):\n",
    "#        print(f\"Row {row + 1}, Column {col + 1}\")"
   ],
   "metadata": {
    "collapsed": false,
    "ExecuteTime": {
     "end_time": "2023-12-23T19:01:20.567039Z",
     "start_time": "2023-12-23T19:01:20.560724Z"
    }
   },
   "execution_count": 85
  },
  {
   "cell_type": "code",
   "outputs": [
    {
     "name": "stdout",
     "output_type": "stream",
     "text": [
      "before - time_all\n",
      "          label        text  int  end\n",
      "0    r-empty-ok         NaN  1.0  end\n",
      "1       r-sp-ok         NaN  2.0  end\n",
      "2  r-leading-ok  leading_sp  3.0  end\n",
      "3    r-ok-empty         val  NaN  end\n",
      "4   r-ok-spaces         val  NaN  end\n",
      "5  r-ok-leading         val  4.0  end\n",
      "6        r-good         val  0.0  end\n",
      "7   r-All Empty         NaN  NaN  NaN\n",
      "Null cells:\n",
      "Row 1, Column 2\n",
      "Row 2, Column 2\n",
      "Row 4, Column 3\n",
      "Row 5, Column 3\n",
      "Row 8, Column 2\n",
      "Row 8, Column 3\n",
      "Row 8, Column 4\n",
      "\n",
      "Empty strings:\n",
      "Row 1\n",
      "Row 2\n",
      "Row 3\n",
      "Row 4\n",
      "Row 5\n",
      "Row 6\n",
      "Row 7\n",
      "Row 8\n"
     ]
    }
   ],
   "source": [
    "print(\"before - time_all\")\n",
    "print(df.head(20))\n",
    "find_blanks(df)"
   ],
   "metadata": {
    "collapsed": false,
    "ExecuteTime": {
     "end_time": "2023-12-23T19:01:20.990725Z",
     "start_time": "2023-12-23T19:01:20.987282Z"
    }
   },
   "execution_count": 86
  },
  {
   "cell_type": "code",
   "outputs": [],
   "source": [
    "print(\"after - trim_all\")\n",
    "df_trimmed = trim_all(df)\n",
    "print(df_trimmed.head(20))\n",
    "find_blanks(df_trimmed)"
   ],
   "metadata": {
    "collapsed": false
   },
   "execution_count": null
  },
  {
   "cell_type": "code",
   "outputs": [],
   "source": [
    "# Find rows with empty strings in any column\n",
    "empty_rows = df[df.eq('').any(axis=1)]\n",
    "print('rows with blanks')\n",
    "print(empty_rows)\n",
    "\n",
    "# Find columns with empty strings\n",
    "empty_cols = df.columns[df.eq('').any()]\n",
    "print('empty_cols')\n",
    "print(empty_cols)\n"
   ],
   "metadata": {
    "collapsed": false
   },
   "execution_count": null
  },
  {
   "cell_type": "code",
   "outputs": [],
   "source": [],
   "metadata": {
    "collapsed": false
   },
   "execution_count": null
  },
  {
   "cell_type": "code",
   "outputs": [],
   "source": [],
   "metadata": {
    "collapsed": false
   }
  }
 ],
 "metadata": {
  "kernelspec": {
   "display_name": "Python 3",
   "language": "python",
   "name": "python3"
  },
  "language_info": {
   "name": "python",
   "version": "3.11.0 (main, Oct 25 2022, 13:57:33) [Clang 14.0.0 (clang-1400.0.29.202)]"
  },
  "orig_nbformat": 4,
  "vscode": {
   "interpreter": {
    "hash": "5c7b89af1651d0b8571dde13640ecdccf7d5a6204171d6ab33e7c296e100e08a"
   }
  }
 },
 "nbformat": 4,
 "nbformat_minor": 2
}
