{
 "cells": [
  {
   "cell_type": "code",
   "execution_count": 2,
   "metadata": {
    "ExecuteTime": {
     "end_time": "2023-12-25T15:28:20.208499Z",
     "start_time": "2023-12-25T15:28:20.197656Z"
    }
   },
   "outputs": [],
   "source": [
    "#Basic notebook with a few jupyter examples - use case is calc out of date warranties\n",
    "# Load and process a CSV\n",
    "\n",
    "#Handle users that have never logged on to an app to which they are assigned  ... but that are not new to the app. \n",
    "# Generate recommendations for each user X app. \n",
    "\n",
    "\n",
    "\n",
    "#Metrics\n",
    "\n",
    "\n",
    "\n",
    "\n",
    "\n",
    "# Metrics to calc\n",
    "#    number of product purchases that are either out of warranty or obsolete\n",
    "# Users that haven't purchased in a while\n",
    "# Last purchase per user - any product\n",
    "\n",
    "#Last login per user - each app\n",
    "#  * somehow include no logins - for ones that they have been assigned\n",
    "\n",
    "#TODO handle case where user has never logged in to an ap to which they have been assigned. \n",
    "#TODO handle case where a user is brand new to an app.\n",
    "\n"
   ]
  },
  {
   "cell_type": "code",
   "execution_count": 44,
   "outputs": [
    {
     "name": "stderr",
     "output_type": "stream",
     "text": [
      "log level = 10\n"
     ]
    }
   ],
   "source": [
    "import numpy as np\n",
    "import pandas as pd\n",
    "import logging\n",
    "from datetime import date, timedelta\n",
    "import seaborn as sns\n",
    "import matplotlib.pyplot as plt\n",
    "from check_df import check_df, fix_empty_cells\n",
    "\n",
    "logging.basicConfig(level=logging.DEBUG, format=\"%(message)s\")\n",
    "LOGGER = logging.getLogger('arappaport')\n",
    "LOGGER.debug(\"log level = %s\", str(LOGGER.getEffectiveLevel()))\n"
   ],
   "metadata": {
    "collapsed": false,
    "ExecuteTime": {
     "end_time": "2023-12-25T15:49:58.428553Z",
     "start_time": "2023-12-25T15:49:58.422331Z"
    }
   }
  },
  {
   "cell_type": "code",
   "outputs": [],
   "source": [
    "# Params - Moved these to command line or env in final version \n",
    "DATA_PATH=\"./data/user_app_access.csv\"\n",
    "DATE_AS_OF=date.fromisoformat('2023-06-01') #Date for analysis\n",
    "#For data visualization - date range sizes\n",
    "DATE_GROUP_DAYS=30\n",
    "CUTOFF_DAYS=90\n",
    "\n",
    "REQUIRED_COLUMNS=['user','date','app']\n",
    "REQUIRED_VALUES=['user', 'date','app']\n",
    "\n",
    "#list of recommended actions for different date thresholds. \n",
    "DEFAULT_ACTION='ok'\n",
    "ACTION_DATES = dict(suspend=60, remove=120)\n",
    "#sort so the largest date value is first in dict.  i.e., we want to recommend the action with the largest date range\n",
    "actions = {k: v for k, v in sorted(ACTION_DATES.items(), key=lambda item: item[1], reverse=True)} \n",
    "\n"
   ],
   "metadata": {
    "collapsed": false,
    "ExecuteTime": {
     "end_time": "2023-12-25T15:28:20.235301Z",
     "start_time": "2023-12-25T15:28:20.223809Z"
    }
   },
   "execution_count": 4
  },
  {
   "cell_type": "code",
   "outputs": [
    {
     "data": {
      "text/plain": "  user        date      app\n0    A  2023-05-31    app-a\n1    B  2023-06-01    app-a\n2    C  2023-05-01    app-b\n3    D  2023-06-01    app-a\n4    D  2023-05-15    app-a",
      "text/html": "<div>\n<style scoped>\n    .dataframe tbody tr th:only-of-type {\n        vertical-align: middle;\n    }\n\n    .dataframe tbody tr th {\n        vertical-align: top;\n    }\n\n    .dataframe thead th {\n        text-align: right;\n    }\n</style>\n<table border=\"1\" class=\"dataframe\">\n  <thead>\n    <tr style=\"text-align: right;\">\n      <th></th>\n      <th>user</th>\n      <th>date</th>\n      <th>app</th>\n    </tr>\n  </thead>\n  <tbody>\n    <tr>\n      <th>0</th>\n      <td>A</td>\n      <td>2023-05-31</td>\n      <td>app-a</td>\n    </tr>\n    <tr>\n      <th>1</th>\n      <td>B</td>\n      <td>2023-06-01</td>\n      <td>app-a</td>\n    </tr>\n    <tr>\n      <th>2</th>\n      <td>C</td>\n      <td>2023-05-01</td>\n      <td>app-b</td>\n    </tr>\n    <tr>\n      <th>3</th>\n      <td>D</td>\n      <td>2023-06-01</td>\n      <td>app-a</td>\n    </tr>\n    <tr>\n      <th>4</th>\n      <td>D</td>\n      <td>2023-05-15</td>\n      <td>app-a</td>\n    </tr>\n  </tbody>\n</table>\n</div>"
     },
     "execution_count": 5,
     "metadata": {},
     "output_type": "execute_result"
    }
   ],
   "source": [
    "df_all = pd.read_csv(DATA_PATH)\n",
    "df_all.head()"
   ],
   "metadata": {
    "collapsed": false,
    "ExecuteTime": {
     "end_time": "2023-12-25T15:28:20.247947Z",
     "start_time": "2023-12-25T15:28:20.226958Z"
    }
   },
   "execution_count": 5
  },
  {
   "cell_type": "code",
   "outputs": [
    {
     "data": {
      "text/plain": "  user        date      app\n0    A  2023-05-31    app-a\n1    B  2023-06-01    app-a\n2    C  2023-05-01    app-b\n3    D  2023-06-01    app-a\n4    D  2023-05-15    app-a",
      "text/html": "<div>\n<style scoped>\n    .dataframe tbody tr th:only-of-type {\n        vertical-align: middle;\n    }\n\n    .dataframe tbody tr th {\n        vertical-align: top;\n    }\n\n    .dataframe thead th {\n        text-align: right;\n    }\n</style>\n<table border=\"1\" class=\"dataframe\">\n  <thead>\n    <tr style=\"text-align: right;\">\n      <th></th>\n      <th>user</th>\n      <th>date</th>\n      <th>app</th>\n    </tr>\n  </thead>\n  <tbody>\n    <tr>\n      <th>0</th>\n      <td>A</td>\n      <td>2023-05-31</td>\n      <td>app-a</td>\n    </tr>\n    <tr>\n      <th>1</th>\n      <td>B</td>\n      <td>2023-06-01</td>\n      <td>app-a</td>\n    </tr>\n    <tr>\n      <th>2</th>\n      <td>C</td>\n      <td>2023-05-01</td>\n      <td>app-b</td>\n    </tr>\n    <tr>\n      <th>3</th>\n      <td>D</td>\n      <td>2023-06-01</td>\n      <td>app-a</td>\n    </tr>\n    <tr>\n      <th>4</th>\n      <td>D</td>\n      <td>2023-05-15</td>\n      <td>app-a</td>\n    </tr>\n  </tbody>\n</table>\n</div>"
     },
     "execution_count": 6,
     "metadata": {},
     "output_type": "execute_result"
    }
   ],
   "source": [
    "# replace empty cells with None to clean up data.\n",
    "fix_empty_cells(df_all, inplace=True)\n",
    "df_all.head()"
   ],
   "metadata": {
    "collapsed": false,
    "ExecuteTime": {
     "end_time": "2023-12-25T15:28:20.248933Z",
     "start_time": "2023-12-25T15:28:20.237311Z"
    }
   },
   "execution_count": 6
  },
  {
   "cell_type": "code",
   "execution_count": 7,
   "outputs": [
    {
     "name": "stderr",
     "output_type": "stream",
     "text": [
      "Num empty required cells in dataframe: 0\n",
      "Loaded 22 clean rows from CSV[./data/user_app_access.csv]\n"
     ]
    },
    {
     "data": {
      "text/plain": "  user        date      app  days_ago\n0    A  2023-05-31    app-a         1\n1    B  2023-06-01    app-a         0\n2    C  2023-05-01    app-b        31\n3    D  2023-06-01    app-a         0\n4    D  2023-05-15    app-a        17",
      "text/html": "<div>\n<style scoped>\n    .dataframe tbody tr th:only-of-type {\n        vertical-align: middle;\n    }\n\n    .dataframe tbody tr th {\n        vertical-align: top;\n    }\n\n    .dataframe thead th {\n        text-align: right;\n    }\n</style>\n<table border=\"1\" class=\"dataframe\">\n  <thead>\n    <tr style=\"text-align: right;\">\n      <th></th>\n      <th>user</th>\n      <th>date</th>\n      <th>app</th>\n      <th>days_ago</th>\n    </tr>\n  </thead>\n  <tbody>\n    <tr>\n      <th>0</th>\n      <td>A</td>\n      <td>2023-05-31</td>\n      <td>app-a</td>\n      <td>1</td>\n    </tr>\n    <tr>\n      <th>1</th>\n      <td>B</td>\n      <td>2023-06-01</td>\n      <td>app-a</td>\n      <td>0</td>\n    </tr>\n    <tr>\n      <th>2</th>\n      <td>C</td>\n      <td>2023-05-01</td>\n      <td>app-b</td>\n      <td>31</td>\n    </tr>\n    <tr>\n      <th>3</th>\n      <td>D</td>\n      <td>2023-06-01</td>\n      <td>app-a</td>\n      <td>0</td>\n    </tr>\n    <tr>\n      <th>4</th>\n      <td>D</td>\n      <td>2023-05-15</td>\n      <td>app-a</td>\n      <td>17</td>\n    </tr>\n  </tbody>\n</table>\n</div>"
     },
     "execution_count": 7,
     "metadata": {},
     "output_type": "execute_result"
    }
   ],
   "source": [
    "#check dataframe for missing blocks.  err is empty if no errors - otherwise an err str\n",
    "err = check_df(df_all, required_columns=REQUIRED_COLUMNS, required_values=REQUIRED_VALUES)\n",
    "if err:\n",
    "    print(str(err))\n",
    "    Exception(err)\n",
    "    \n",
    "LOGGER.info(\"Loaded %d clean rows from CSV[%s]\", len(df_all), DATA_PATH)\n",
    "\n",
    "#fixup convert 8601 strings to dates\n",
    "df_all['date']      = pd.to_datetime(df_all['date'], format='%Y-%m-%d').dt.date\n",
    "\n",
    "#Add number of days since date.   Makes some downstream calcs a little easier\n",
    "df_all['days_ago'] = df_all['date'].apply(lambda x: (DATE_AS_OF - x).days)\n",
    "df_all.head()\n"
   ],
   "metadata": {
    "collapsed": false,
    "ExecuteTime": {
     "end_time": "2023-12-25T15:28:20.272414Z",
     "start_time": "2023-12-25T15:28:20.251337Z"
    }
   }
  },
  {
   "cell_type": "code",
   "execution_count": 8,
   "outputs": [
    {
     "data": {
      "text/plain": "  user        date      app  days_ago action\n0    A  2023-05-31    app-a         1     ok\n1    B  2023-06-01    app-a         0     ok\n2    C  2023-05-01    app-b        31     ok\n3    D  2023-06-01    app-a         0     ok\n4    D  2023-05-15    app-a        17     ok",
      "text/html": "<div>\n<style scoped>\n    .dataframe tbody tr th:only-of-type {\n        vertical-align: middle;\n    }\n\n    .dataframe tbody tr th {\n        vertical-align: top;\n    }\n\n    .dataframe thead th {\n        text-align: right;\n    }\n</style>\n<table border=\"1\" class=\"dataframe\">\n  <thead>\n    <tr style=\"text-align: right;\">\n      <th></th>\n      <th>user</th>\n      <th>date</th>\n      <th>app</th>\n      <th>days_ago</th>\n      <th>action</th>\n    </tr>\n  </thead>\n  <tbody>\n    <tr>\n      <th>0</th>\n      <td>A</td>\n      <td>2023-05-31</td>\n      <td>app-a</td>\n      <td>1</td>\n      <td>ok</td>\n    </tr>\n    <tr>\n      <th>1</th>\n      <td>B</td>\n      <td>2023-06-01</td>\n      <td>app-a</td>\n      <td>0</td>\n      <td>ok</td>\n    </tr>\n    <tr>\n      <th>2</th>\n      <td>C</td>\n      <td>2023-05-01</td>\n      <td>app-b</td>\n      <td>31</td>\n      <td>ok</td>\n    </tr>\n    <tr>\n      <th>3</th>\n      <td>D</td>\n      <td>2023-06-01</td>\n      <td>app-a</td>\n      <td>0</td>\n      <td>ok</td>\n    </tr>\n    <tr>\n      <th>4</th>\n      <td>D</td>\n      <td>2023-05-15</td>\n      <td>app-a</td>\n      <td>17</td>\n      <td>ok</td>\n    </tr>\n  </tbody>\n</table>\n</div>"
     },
     "execution_count": 8,
     "metadata": {},
     "output_type": "execute_result"
    }
   ],
   "source": [
    "#########Recommend actions based on date of last login\n",
    "def determine_action(days:int) ->str: \n",
    "    for action, d_thresehold in actions.items():\n",
    "        if days >= d_thresehold:\n",
    "            return action\n",
    "    return DEFAULT_ACTION\n",
    "\n",
    "df_all['action'] = df_all['days_ago'].apply(determine_action)\n",
    "df_all.head(5)\n",
    "\n",
    "#Find the ones beyond the dates. "
   ],
   "metadata": {
    "collapsed": false,
    "ExecuteTime": {
     "end_time": "2023-12-25T15:28:20.300452Z",
     "start_time": "2023-12-25T15:28:20.262031Z"
    }
   }
  },
  {
   "cell_type": "code",
   "execution_count": 9,
   "outputs": [
    {
     "data": {
      "text/plain": "            date      app  days_ago  action\nuser                                       \nA     2023-05-31    app-a         1      ok\nB     2023-06-01    app-a         0      ok\nC     2023-05-01    app-b        31      ok\nD     2023-06-01    app-a         0      ok\nE     2023-01-01    app-b       151  remove",
      "text/html": "<div>\n<style scoped>\n    .dataframe tbody tr th:only-of-type {\n        vertical-align: middle;\n    }\n\n    .dataframe tbody tr th {\n        vertical-align: top;\n    }\n\n    .dataframe thead th {\n        text-align: right;\n    }\n</style>\n<table border=\"1\" class=\"dataframe\">\n  <thead>\n    <tr style=\"text-align: right;\">\n      <th></th>\n      <th>date</th>\n      <th>app</th>\n      <th>days_ago</th>\n      <th>action</th>\n    </tr>\n    <tr>\n      <th>user</th>\n      <th></th>\n      <th></th>\n      <th></th>\n      <th></th>\n    </tr>\n  </thead>\n  <tbody>\n    <tr>\n      <th>A</th>\n      <td>2023-05-31</td>\n      <td>app-a</td>\n      <td>1</td>\n      <td>ok</td>\n    </tr>\n    <tr>\n      <th>B</th>\n      <td>2023-06-01</td>\n      <td>app-a</td>\n      <td>0</td>\n      <td>ok</td>\n    </tr>\n    <tr>\n      <th>C</th>\n      <td>2023-05-01</td>\n      <td>app-b</td>\n      <td>31</td>\n      <td>ok</td>\n    </tr>\n    <tr>\n      <th>D</th>\n      <td>2023-06-01</td>\n      <td>app-a</td>\n      <td>0</td>\n      <td>ok</td>\n    </tr>\n    <tr>\n      <th>E</th>\n      <td>2023-01-01</td>\n      <td>app-b</td>\n      <td>151</td>\n      <td>remove</td>\n    </tr>\n  </tbody>\n</table>\n</div>"
     },
     "execution_count": 9,
     "metadata": {},
     "output_type": "execute_result"
    }
   ],
   "source": [
    "#####################################\n",
    "#most recent purchases per user - any product\n",
    "df_recent = df_all.sort_values(by='date', ascending=False)\n",
    "\n",
    "# group the data by Name and get the first row of each group\n",
    "df_most_recent_purchases = df_recent.groupby('user').first()\n",
    "df_most_recent_purchases.head()\n"
   ],
   "metadata": {
    "collapsed": false,
    "ExecuteTime": {
     "end_time": "2023-12-25T15:28:20.308899Z",
     "start_time": "2023-12-25T15:28:20.268845Z"
    }
   }
  },
  {
   "cell_type": "code",
   "outputs": [],
   "source": [],
   "metadata": {
    "collapsed": false,
    "ExecuteTime": {
     "end_time": "2023-12-25T15:28:20.310848Z",
     "start_time": "2023-12-25T15:28:20.273546Z"
    }
   },
   "execution_count": 9
  },
  {
   "cell_type": "code",
   "execution_count": 10,
   "outputs": [
    {
     "data": {
      "text/plain": "  user        date      app  days_ago  action\n0    A  2023-05-31    app-a         1      ok\n1    B  2023-06-01    app-a         0      ok\n2    C  2023-05-01    app-b        31      ok\n3    D  2023-06-01    app-a         0      ok\n4    E  2023-01-01    app-b       151  remove",
      "text/html": "<div>\n<style scoped>\n    .dataframe tbody tr th:only-of-type {\n        vertical-align: middle;\n    }\n\n    .dataframe tbody tr th {\n        vertical-align: top;\n    }\n\n    .dataframe thead th {\n        text-align: right;\n    }\n</style>\n<table border=\"1\" class=\"dataframe\">\n  <thead>\n    <tr style=\"text-align: right;\">\n      <th></th>\n      <th>user</th>\n      <th>date</th>\n      <th>app</th>\n      <th>days_ago</th>\n      <th>action</th>\n    </tr>\n  </thead>\n  <tbody>\n    <tr>\n      <th>0</th>\n      <td>A</td>\n      <td>2023-05-31</td>\n      <td>app-a</td>\n      <td>1</td>\n      <td>ok</td>\n    </tr>\n    <tr>\n      <th>1</th>\n      <td>B</td>\n      <td>2023-06-01</td>\n      <td>app-a</td>\n      <td>0</td>\n      <td>ok</td>\n    </tr>\n    <tr>\n      <th>2</th>\n      <td>C</td>\n      <td>2023-05-01</td>\n      <td>app-b</td>\n      <td>31</td>\n      <td>ok</td>\n    </tr>\n    <tr>\n      <th>3</th>\n      <td>D</td>\n      <td>2023-06-01</td>\n      <td>app-a</td>\n      <td>0</td>\n      <td>ok</td>\n    </tr>\n    <tr>\n      <th>4</th>\n      <td>E</td>\n      <td>2023-01-01</td>\n      <td>app-b</td>\n      <td>151</td>\n      <td>remove</td>\n    </tr>\n  </tbody>\n</table>\n</div>"
     },
     "execution_count": 10,
     "metadata": {},
     "output_type": "execute_result"
    }
   ],
   "source": [
    "#####################################\n",
    "#most recent login per user - any app\n",
    "\n",
    "df_recent = df_all.sort_values(by='date', ascending=False)\n",
    "\n",
    "# group the data by Name and get the most recent login (first row) of each group\n",
    "df_most_recent_login = df_recent.groupby(['user'],as_index=False).first()\n",
    "df_most_recent_login.head(5)"
   ],
   "metadata": {
    "collapsed": false,
    "ExecuteTime": {
     "end_time": "2023-12-25T15:28:20.357640Z",
     "start_time": "2023-12-25T15:28:20.316188Z"
    }
   }
  },
  {
   "cell_type": "code",
   "execution_count": 11,
   "outputs": [
    {
     "data": {
      "text/plain": "   user      app        date  days_ago   action\n0     A    app-a  2023-05-31         1       ok\n1     A    app-a  2023-02-28        93  suspend\n2     A    app-b  2023-03-21        72  suspend\n3     A    app-c  2023-03-12        81  suspend\n4     A    app-d  2023-03-18        75  suspend\n5     B    app-a  2023-06-01         0       ok\n6     B    app-b  2023-02-07       114  suspend\n7     B    app-d  2023-03-03        90  suspend\n8     C    app-a  2023-03-06        87  suspend\n9     C    app-b  2023-05-01        31       ok\n10    C    app-d  2023-02-22        99  suspend\n11    D    app-a  2023-06-01         0       ok\n12    D    app-b  2023-02-25        96  suspend\n13    D    app-d  2023-03-09        84  suspend\n14    E    app-b  2023-01-01       151   remove",
      "text/html": "<div>\n<style scoped>\n    .dataframe tbody tr th:only-of-type {\n        vertical-align: middle;\n    }\n\n    .dataframe tbody tr th {\n        vertical-align: top;\n    }\n\n    .dataframe thead th {\n        text-align: right;\n    }\n</style>\n<table border=\"1\" class=\"dataframe\">\n  <thead>\n    <tr style=\"text-align: right;\">\n      <th></th>\n      <th>user</th>\n      <th>app</th>\n      <th>date</th>\n      <th>days_ago</th>\n      <th>action</th>\n    </tr>\n  </thead>\n  <tbody>\n    <tr>\n      <th>0</th>\n      <td>A</td>\n      <td>app-a</td>\n      <td>2023-05-31</td>\n      <td>1</td>\n      <td>ok</td>\n    </tr>\n    <tr>\n      <th>1</th>\n      <td>A</td>\n      <td>app-a</td>\n      <td>2023-02-28</td>\n      <td>93</td>\n      <td>suspend</td>\n    </tr>\n    <tr>\n      <th>2</th>\n      <td>A</td>\n      <td>app-b</td>\n      <td>2023-03-21</td>\n      <td>72</td>\n      <td>suspend</td>\n    </tr>\n    <tr>\n      <th>3</th>\n      <td>A</td>\n      <td>app-c</td>\n      <td>2023-03-12</td>\n      <td>81</td>\n      <td>suspend</td>\n    </tr>\n    <tr>\n      <th>4</th>\n      <td>A</td>\n      <td>app-d</td>\n      <td>2023-03-18</td>\n      <td>75</td>\n      <td>suspend</td>\n    </tr>\n    <tr>\n      <th>5</th>\n      <td>B</td>\n      <td>app-a</td>\n      <td>2023-06-01</td>\n      <td>0</td>\n      <td>ok</td>\n    </tr>\n    <tr>\n      <th>6</th>\n      <td>B</td>\n      <td>app-b</td>\n      <td>2023-02-07</td>\n      <td>114</td>\n      <td>suspend</td>\n    </tr>\n    <tr>\n      <th>7</th>\n      <td>B</td>\n      <td>app-d</td>\n      <td>2023-03-03</td>\n      <td>90</td>\n      <td>suspend</td>\n    </tr>\n    <tr>\n      <th>8</th>\n      <td>C</td>\n      <td>app-a</td>\n      <td>2023-03-06</td>\n      <td>87</td>\n      <td>suspend</td>\n    </tr>\n    <tr>\n      <th>9</th>\n      <td>C</td>\n      <td>app-b</td>\n      <td>2023-05-01</td>\n      <td>31</td>\n      <td>ok</td>\n    </tr>\n    <tr>\n      <th>10</th>\n      <td>C</td>\n      <td>app-d</td>\n      <td>2023-02-22</td>\n      <td>99</td>\n      <td>suspend</td>\n    </tr>\n    <tr>\n      <th>11</th>\n      <td>D</td>\n      <td>app-a</td>\n      <td>2023-06-01</td>\n      <td>0</td>\n      <td>ok</td>\n    </tr>\n    <tr>\n      <th>12</th>\n      <td>D</td>\n      <td>app-b</td>\n      <td>2023-02-25</td>\n      <td>96</td>\n      <td>suspend</td>\n    </tr>\n    <tr>\n      <th>13</th>\n      <td>D</td>\n      <td>app-d</td>\n      <td>2023-03-09</td>\n      <td>84</td>\n      <td>suspend</td>\n    </tr>\n    <tr>\n      <th>14</th>\n      <td>E</td>\n      <td>app-b</td>\n      <td>2023-01-01</td>\n      <td>151</td>\n      <td>remove</td>\n    </tr>\n  </tbody>\n</table>\n</div>"
     },
     "execution_count": 11,
     "metadata": {},
     "output_type": "execute_result"
    }
   ],
   "source": [
    "#####################################\n",
    "#most recent login per user - list all products\n",
    "\n",
    "df_recent = df_all.sort_values(by='date', ascending=False)\n",
    "\n",
    "# group the data by Name and get the most recent login (first row) of each group\n",
    "df_most_recent_login_all = df_recent.groupby(['user', 'app'],as_index=False).first()\n",
    "df_most_recent_login_all.head(15)"
   ],
   "metadata": {
    "collapsed": false,
    "ExecuteTime": {
     "end_time": "2023-12-25T15:28:20.395475Z",
     "start_time": "2023-12-25T15:28:20.363500Z"
    }
   }
  },
  {
   "cell_type": "code",
   "execution_count": 12,
   "outputs": [],
   "source": [
    "### Find login that are old - such as out of warranty date.\n",
    "#filtered_df = df_most_recent_login_all.loc[df_most_recent_login_all['date'] < '2023-02-01']\n",
    "\n",
    "#print(f\"Num login out of warranty: {len(filtered_df)}\")\n",
    "#filtered_df.head(5)\n"
   ],
   "metadata": {
    "collapsed": false,
    "ExecuteTime": {
     "end_time": "2023-12-25T15:28:20.420918Z",
     "start_time": "2023-12-25T15:28:20.386544Z"
    }
   }
  },
  {
   "cell_type": "code",
   "execution_count": 13,
   "outputs": [
    {
     "name": "stdout",
     "output_type": "stream",
     "text": [
      "dmin: Earliest entry from date: 2023-01-01\n",
      "date slice: 2023-05-02\n",
      "date slice: 2023-04-02\n",
      "date slice: 2023-03-03\n",
      "date slice: 2023-02-01\n",
      "date slice: 2023-01-02\n",
      "date slice: 2022-12-03\n"
     ]
    }
   ],
   "source": [
    "#####################################\n",
    "# Last login per user per app\n",
    "#\n",
    "# Note: this doesn't handle case where a user never logged-in\n",
    "#####################################\n",
    "#Generate blocks of cutoff days.    The first is the max.\n",
    "dates = []\n",
    "dateblocks = {}\n",
    "\n",
    "dmin = df_all['date'].min()\n",
    "print(f\"dmin: Earliest entry from date: {dmin}\")\n",
    "d = DATE_AS_OF\n",
    "ndays = 0\n",
    "while d >= dmin:\n",
    " dates.insert(0,d)\n",
    "\n",
    " prevdate = d - timedelta(days=DATE_GROUP_DAYS)\n",
    " ndays_max=ndays + DATE_GROUP_DAYS-1\n",
    " dateblocks[ndays] = dict(ndays=ndays,\n",
    "                          date=d,\n",
    "                          prevdate=prevdate,\n",
    "                          ndays_max = ndays_max,\n",
    "                          label=f\"{ndays} to {ndays_max} days\")\n",
    "\n",
    " #Next block\n",
    " d = prevdate\n",
    " ndays += DATE_GROUP_DAYS\n",
    "\n",
    " print(f\"date slice: {d}\")"
   ],
   "metadata": {
    "collapsed": false,
    "ExecuteTime": {
     "end_time": "2023-12-25T15:28:20.463921Z",
     "start_time": "2023-12-25T15:28:20.424442Z"
    }
   }
  },
  {
   "cell_type": "code",
   "outputs": [
    {
     "data": {
      "text/plain": "{0: {'ndays': 0,\n  'date': datetime.date(2023, 6, 1),\n  'prevdate': datetime.date(2023, 5, 2),\n  'ndays_max': 29,\n  'label': '0 to 29 days'},\n 30: {'ndays': 30,\n  'date': datetime.date(2023, 5, 2),\n  'prevdate': datetime.date(2023, 4, 2),\n  'ndays_max': 59,\n  'label': '30 to 59 days'},\n 60: {'ndays': 60,\n  'date': datetime.date(2023, 4, 2),\n  'prevdate': datetime.date(2023, 3, 3),\n  'ndays_max': 89,\n  'label': '60 to 89 days'},\n 90: {'ndays': 90,\n  'date': datetime.date(2023, 3, 3),\n  'prevdate': datetime.date(2023, 2, 1),\n  'ndays_max': 119,\n  'label': '90 to 119 days'},\n 120: {'ndays': 120,\n  'date': datetime.date(2023, 2, 1),\n  'prevdate': datetime.date(2023, 1, 2),\n  'ndays_max': 149,\n  'label': '120 to 149 days'},\n 150: {'ndays': 150,\n  'date': datetime.date(2023, 1, 2),\n  'prevdate': datetime.date(2022, 12, 3),\n  'ndays_max': 179,\n  'label': '150 to 179 days'}}"
     },
     "execution_count": 34,
     "metadata": {},
     "output_type": "execute_result"
    }
   ],
   "source": [
    "dateblocks"
   ],
   "metadata": {
    "collapsed": false,
    "ExecuteTime": {
     "end_time": "2023-12-25T15:42:33.334964Z",
     "start_time": "2023-12-25T15:42:33.330980Z"
    }
   },
   "execution_count": 34
  },
  {
   "cell_type": "code",
   "execution_count": 35,
   "outputs": [
    {
     "name": "stdout",
     "output_type": "stream",
     "text": [
      "calc_date_block d=0  v={'ndays': 0, 'date': datetime.date(2023, 6, 1), 'prevdate': datetime.date(2023, 5, 2), 'ndays_max': 29, 'label': '0 to 29 days'}\n",
      "calc_date_block d=0  v={'ndays': 0, 'date': datetime.date(2023, 6, 1), 'prevdate': datetime.date(2023, 5, 2), 'ndays_max': 29, 'label': '0 to 29 days'}\n",
      "calc_date_block d=0  v={'ndays': 0, 'date': datetime.date(2023, 6, 1), 'prevdate': datetime.date(2023, 5, 2), 'ndays_max': 29, 'label': '0 to 29 days'}\n",
      "calc_date_block d=30  v={'ndays': 30, 'date': datetime.date(2023, 5, 2), 'prevdate': datetime.date(2023, 4, 2), 'ndays_max': 59, 'label': '30 to 59 days'}\n",
      "calc_date_block d=0  v={'ndays': 0, 'date': datetime.date(2023, 6, 1), 'prevdate': datetime.date(2023, 5, 2), 'ndays_max': 29, 'label': '0 to 29 days'}\n",
      "calc_date_block d=0  v={'ndays': 0, 'date': datetime.date(2023, 6, 1), 'prevdate': datetime.date(2023, 5, 2), 'ndays_max': 29, 'label': '0 to 29 days'}\n",
      "calc_date_block d=0  v={'ndays': 0, 'date': datetime.date(2023, 6, 1), 'prevdate': datetime.date(2023, 5, 2), 'ndays_max': 29, 'label': '0 to 29 days'}\n",
      "calc_date_block d=30  v={'ndays': 30, 'date': datetime.date(2023, 5, 2), 'prevdate': datetime.date(2023, 4, 2), 'ndays_max': 59, 'label': '30 to 59 days'}\n",
      "calc_date_block d=60  v={'ndays': 60, 'date': datetime.date(2023, 4, 2), 'prevdate': datetime.date(2023, 3, 3), 'ndays_max': 89, 'label': '60 to 89 days'}\n",
      "calc_date_block d=90  v={'ndays': 90, 'date': datetime.date(2023, 3, 3), 'prevdate': datetime.date(2023, 2, 1), 'ndays_max': 119, 'label': '90 to 119 days'}\n",
      "calc_date_block d=0  v={'ndays': 0, 'date': datetime.date(2023, 6, 1), 'prevdate': datetime.date(2023, 5, 2), 'ndays_max': 29, 'label': '0 to 29 days'}\n",
      "calc_date_block d=30  v={'ndays': 30, 'date': datetime.date(2023, 5, 2), 'prevdate': datetime.date(2023, 4, 2), 'ndays_max': 59, 'label': '30 to 59 days'}\n",
      "calc_date_block d=60  v={'ndays': 60, 'date': datetime.date(2023, 4, 2), 'prevdate': datetime.date(2023, 3, 3), 'ndays_max': 89, 'label': '60 to 89 days'}\n",
      "calc_date_block d=90  v={'ndays': 90, 'date': datetime.date(2023, 3, 3), 'prevdate': datetime.date(2023, 2, 1), 'ndays_max': 119, 'label': '90 to 119 days'}\n",
      "calc_date_block d=0  v={'ndays': 0, 'date': datetime.date(2023, 6, 1), 'prevdate': datetime.date(2023, 5, 2), 'ndays_max': 29, 'label': '0 to 29 days'}\n",
      "calc_date_block d=30  v={'ndays': 30, 'date': datetime.date(2023, 5, 2), 'prevdate': datetime.date(2023, 4, 2), 'ndays_max': 59, 'label': '30 to 59 days'}\n",
      "calc_date_block d=60  v={'ndays': 60, 'date': datetime.date(2023, 4, 2), 'prevdate': datetime.date(2023, 3, 3), 'ndays_max': 89, 'label': '60 to 89 days'}\n",
      "calc_date_block d=90  v={'ndays': 90, 'date': datetime.date(2023, 3, 3), 'prevdate': datetime.date(2023, 2, 1), 'ndays_max': 119, 'label': '90 to 119 days'}\n",
      "calc_date_block d=0  v={'ndays': 0, 'date': datetime.date(2023, 6, 1), 'prevdate': datetime.date(2023, 5, 2), 'ndays_max': 29, 'label': '0 to 29 days'}\n",
      "calc_date_block d=30  v={'ndays': 30, 'date': datetime.date(2023, 5, 2), 'prevdate': datetime.date(2023, 4, 2), 'ndays_max': 59, 'label': '30 to 59 days'}\n",
      "calc_date_block d=60  v={'ndays': 60, 'date': datetime.date(2023, 4, 2), 'prevdate': datetime.date(2023, 3, 3), 'ndays_max': 89, 'label': '60 to 89 days'}\n",
      "calc_date_block d=90  v={'ndays': 90, 'date': datetime.date(2023, 3, 3), 'prevdate': datetime.date(2023, 2, 1), 'ndays_max': 119, 'label': '90 to 119 days'}\n",
      "calc_date_block d=0  v={'ndays': 0, 'date': datetime.date(2023, 6, 1), 'prevdate': datetime.date(2023, 5, 2), 'ndays_max': 29, 'label': '0 to 29 days'}\n",
      "calc_date_block d=30  v={'ndays': 30, 'date': datetime.date(2023, 5, 2), 'prevdate': datetime.date(2023, 4, 2), 'ndays_max': 59, 'label': '30 to 59 days'}\n",
      "calc_date_block d=60  v={'ndays': 60, 'date': datetime.date(2023, 4, 2), 'prevdate': datetime.date(2023, 3, 3), 'ndays_max': 89, 'label': '60 to 89 days'}\n",
      "calc_date_block d=90  v={'ndays': 90, 'date': datetime.date(2023, 3, 3), 'prevdate': datetime.date(2023, 2, 1), 'ndays_max': 119, 'label': '90 to 119 days'}\n",
      "calc_date_block d=0  v={'ndays': 0, 'date': datetime.date(2023, 6, 1), 'prevdate': datetime.date(2023, 5, 2), 'ndays_max': 29, 'label': '0 to 29 days'}\n",
      "calc_date_block d=30  v={'ndays': 30, 'date': datetime.date(2023, 5, 2), 'prevdate': datetime.date(2023, 4, 2), 'ndays_max': 59, 'label': '30 to 59 days'}\n",
      "calc_date_block d=60  v={'ndays': 60, 'date': datetime.date(2023, 4, 2), 'prevdate': datetime.date(2023, 3, 3), 'ndays_max': 89, 'label': '60 to 89 days'}\n",
      "calc_date_block d=90  v={'ndays': 90, 'date': datetime.date(2023, 3, 3), 'prevdate': datetime.date(2023, 2, 1), 'ndays_max': 119, 'label': '90 to 119 days'}\n",
      "calc_date_block d=0  v={'ndays': 0, 'date': datetime.date(2023, 6, 1), 'prevdate': datetime.date(2023, 5, 2), 'ndays_max': 29, 'label': '0 to 29 days'}\n",
      "calc_date_block d=30  v={'ndays': 30, 'date': datetime.date(2023, 5, 2), 'prevdate': datetime.date(2023, 4, 2), 'ndays_max': 59, 'label': '30 to 59 days'}\n",
      "calc_date_block d=60  v={'ndays': 60, 'date': datetime.date(2023, 4, 2), 'prevdate': datetime.date(2023, 3, 3), 'ndays_max': 89, 'label': '60 to 89 days'}\n",
      "calc_date_block d=90  v={'ndays': 90, 'date': datetime.date(2023, 3, 3), 'prevdate': datetime.date(2023, 2, 1), 'ndays_max': 119, 'label': '90 to 119 days'}\n",
      "calc_date_block d=0  v={'ndays': 0, 'date': datetime.date(2023, 6, 1), 'prevdate': datetime.date(2023, 5, 2), 'ndays_max': 29, 'label': '0 to 29 days'}\n",
      "calc_date_block d=30  v={'ndays': 30, 'date': datetime.date(2023, 5, 2), 'prevdate': datetime.date(2023, 4, 2), 'ndays_max': 59, 'label': '30 to 59 days'}\n",
      "calc_date_block d=60  v={'ndays': 60, 'date': datetime.date(2023, 4, 2), 'prevdate': datetime.date(2023, 3, 3), 'ndays_max': 89, 'label': '60 to 89 days'}\n",
      "calc_date_block d=90  v={'ndays': 90, 'date': datetime.date(2023, 3, 3), 'prevdate': datetime.date(2023, 2, 1), 'ndays_max': 119, 'label': '90 to 119 days'}\n",
      "calc_date_block d=0  v={'ndays': 0, 'date': datetime.date(2023, 6, 1), 'prevdate': datetime.date(2023, 5, 2), 'ndays_max': 29, 'label': '0 to 29 days'}\n",
      "calc_date_block d=30  v={'ndays': 30, 'date': datetime.date(2023, 5, 2), 'prevdate': datetime.date(2023, 4, 2), 'ndays_max': 59, 'label': '30 to 59 days'}\n",
      "calc_date_block d=60  v={'ndays': 60, 'date': datetime.date(2023, 4, 2), 'prevdate': datetime.date(2023, 3, 3), 'ndays_max': 89, 'label': '60 to 89 days'}\n",
      "calc_date_block d=90  v={'ndays': 90, 'date': datetime.date(2023, 3, 3), 'prevdate': datetime.date(2023, 2, 1), 'ndays_max': 119, 'label': '90 to 119 days'}\n",
      "calc_date_block d=0  v={'ndays': 0, 'date': datetime.date(2023, 6, 1), 'prevdate': datetime.date(2023, 5, 2), 'ndays_max': 29, 'label': '0 to 29 days'}\n",
      "calc_date_block d=30  v={'ndays': 30, 'date': datetime.date(2023, 5, 2), 'prevdate': datetime.date(2023, 4, 2), 'ndays_max': 59, 'label': '30 to 59 days'}\n",
      "calc_date_block d=60  v={'ndays': 60, 'date': datetime.date(2023, 4, 2), 'prevdate': datetime.date(2023, 3, 3), 'ndays_max': 89, 'label': '60 to 89 days'}\n",
      "calc_date_block d=90  v={'ndays': 90, 'date': datetime.date(2023, 3, 3), 'prevdate': datetime.date(2023, 2, 1), 'ndays_max': 119, 'label': '90 to 119 days'}\n",
      "calc_date_block d=0  v={'ndays': 0, 'date': datetime.date(2023, 6, 1), 'prevdate': datetime.date(2023, 5, 2), 'ndays_max': 29, 'label': '0 to 29 days'}\n",
      "calc_date_block d=30  v={'ndays': 30, 'date': datetime.date(2023, 5, 2), 'prevdate': datetime.date(2023, 4, 2), 'ndays_max': 59, 'label': '30 to 59 days'}\n",
      "calc_date_block d=60  v={'ndays': 60, 'date': datetime.date(2023, 4, 2), 'prevdate': datetime.date(2023, 3, 3), 'ndays_max': 89, 'label': '60 to 89 days'}\n",
      "calc_date_block d=0  v={'ndays': 0, 'date': datetime.date(2023, 6, 1), 'prevdate': datetime.date(2023, 5, 2), 'ndays_max': 29, 'label': '0 to 29 days'}\n",
      "calc_date_block d=30  v={'ndays': 30, 'date': datetime.date(2023, 5, 2), 'prevdate': datetime.date(2023, 4, 2), 'ndays_max': 59, 'label': '30 to 59 days'}\n",
      "calc_date_block d=60  v={'ndays': 60, 'date': datetime.date(2023, 4, 2), 'prevdate': datetime.date(2023, 3, 3), 'ndays_max': 89, 'label': '60 to 89 days'}\n",
      "calc_date_block d=0  v={'ndays': 0, 'date': datetime.date(2023, 6, 1), 'prevdate': datetime.date(2023, 5, 2), 'ndays_max': 29, 'label': '0 to 29 days'}\n",
      "calc_date_block d=30  v={'ndays': 30, 'date': datetime.date(2023, 5, 2), 'prevdate': datetime.date(2023, 4, 2), 'ndays_max': 59, 'label': '30 to 59 days'}\n",
      "calc_date_block d=60  v={'ndays': 60, 'date': datetime.date(2023, 4, 2), 'prevdate': datetime.date(2023, 3, 3), 'ndays_max': 89, 'label': '60 to 89 days'}\n",
      "calc_date_block d=0  v={'ndays': 0, 'date': datetime.date(2023, 6, 1), 'prevdate': datetime.date(2023, 5, 2), 'ndays_max': 29, 'label': '0 to 29 days'}\n",
      "calc_date_block d=30  v={'ndays': 30, 'date': datetime.date(2023, 5, 2), 'prevdate': datetime.date(2023, 4, 2), 'ndays_max': 59, 'label': '30 to 59 days'}\n",
      "calc_date_block d=60  v={'ndays': 60, 'date': datetime.date(2023, 4, 2), 'prevdate': datetime.date(2023, 3, 3), 'ndays_max': 89, 'label': '60 to 89 days'}\n",
      "calc_date_block d=0  v={'ndays': 0, 'date': datetime.date(2023, 6, 1), 'prevdate': datetime.date(2023, 5, 2), 'ndays_max': 29, 'label': '0 to 29 days'}\n",
      "calc_date_block d=30  v={'ndays': 30, 'date': datetime.date(2023, 5, 2), 'prevdate': datetime.date(2023, 4, 2), 'ndays_max': 59, 'label': '30 to 59 days'}\n",
      "calc_date_block d=60  v={'ndays': 60, 'date': datetime.date(2023, 4, 2), 'prevdate': datetime.date(2023, 3, 3), 'ndays_max': 89, 'label': '60 to 89 days'}\n",
      "calc_date_block d=0  v={'ndays': 0, 'date': datetime.date(2023, 6, 1), 'prevdate': datetime.date(2023, 5, 2), 'ndays_max': 29, 'label': '0 to 29 days'}\n",
      "calc_date_block d=30  v={'ndays': 30, 'date': datetime.date(2023, 5, 2), 'prevdate': datetime.date(2023, 4, 2), 'ndays_max': 59, 'label': '30 to 59 days'}\n",
      "calc_date_block d=60  v={'ndays': 60, 'date': datetime.date(2023, 4, 2), 'prevdate': datetime.date(2023, 3, 3), 'ndays_max': 89, 'label': '60 to 89 days'}\n",
      "calc_date_block d=0  v={'ndays': 0, 'date': datetime.date(2023, 6, 1), 'prevdate': datetime.date(2023, 5, 2), 'ndays_max': 29, 'label': '0 to 29 days'}\n",
      "calc_date_block d=30  v={'ndays': 30, 'date': datetime.date(2023, 5, 2), 'prevdate': datetime.date(2023, 4, 2), 'ndays_max': 59, 'label': '30 to 59 days'}\n",
      "calc_date_block d=60  v={'ndays': 60, 'date': datetime.date(2023, 4, 2), 'prevdate': datetime.date(2023, 3, 3), 'ndays_max': 89, 'label': '60 to 89 days'}\n",
      "calc_date_block d=90  v={'ndays': 90, 'date': datetime.date(2023, 3, 3), 'prevdate': datetime.date(2023, 2, 1), 'ndays_max': 119, 'label': '90 to 119 days'}\n",
      "calc_date_block d=120  v={'ndays': 120, 'date': datetime.date(2023, 2, 1), 'prevdate': datetime.date(2023, 1, 2), 'ndays_max': 149, 'label': '120 to 149 days'}\n",
      "calc_date_block d=150  v={'ndays': 150, 'date': datetime.date(2023, 1, 2), 'prevdate': datetime.date(2022, 12, 3), 'ndays_max': 179, 'label': '150 to 179 days'}\n"
     ]
    },
    {
     "data": {
      "text/plain": "  user        date      app  days_ago action  days_since_group  \\\n0    A  2023-05-31    app-a         1     ok                 0   \n1    B  2023-06-01    app-a         0     ok                 0   \n2    C  2023-05-01    app-b        31     ok                30   \n3    D  2023-06-01    app-a         0     ok                 0   \n4    D  2023-05-15    app-a        17     ok                 0   \n\n  days_since_label  \n0     0 to 29 days  \n1     0 to 29 days  \n2    30 to 59 days  \n3     0 to 29 days  \n4     0 to 29 days  ",
      "text/html": "<div>\n<style scoped>\n    .dataframe tbody tr th:only-of-type {\n        vertical-align: middle;\n    }\n\n    .dataframe tbody tr th {\n        vertical-align: top;\n    }\n\n    .dataframe thead th {\n        text-align: right;\n    }\n</style>\n<table border=\"1\" class=\"dataframe\">\n  <thead>\n    <tr style=\"text-align: right;\">\n      <th></th>\n      <th>user</th>\n      <th>date</th>\n      <th>app</th>\n      <th>days_ago</th>\n      <th>action</th>\n      <th>days_since_group</th>\n      <th>days_since_label</th>\n    </tr>\n  </thead>\n  <tbody>\n    <tr>\n      <th>0</th>\n      <td>A</td>\n      <td>2023-05-31</td>\n      <td>app-a</td>\n      <td>1</td>\n      <td>ok</td>\n      <td>0</td>\n      <td>0 to 29 days</td>\n    </tr>\n    <tr>\n      <th>1</th>\n      <td>B</td>\n      <td>2023-06-01</td>\n      <td>app-a</td>\n      <td>0</td>\n      <td>ok</td>\n      <td>0</td>\n      <td>0 to 29 days</td>\n    </tr>\n    <tr>\n      <th>2</th>\n      <td>C</td>\n      <td>2023-05-01</td>\n      <td>app-b</td>\n      <td>31</td>\n      <td>ok</td>\n      <td>30</td>\n      <td>30 to 59 days</td>\n    </tr>\n    <tr>\n      <th>3</th>\n      <td>D</td>\n      <td>2023-06-01</td>\n      <td>app-a</td>\n      <td>0</td>\n      <td>ok</td>\n      <td>0</td>\n      <td>0 to 29 days</td>\n    </tr>\n    <tr>\n      <th>4</th>\n      <td>D</td>\n      <td>2023-05-15</td>\n      <td>app-a</td>\n      <td>17</td>\n      <td>ok</td>\n      <td>0</td>\n      <td>0 to 29 days</td>\n    </tr>\n  </tbody>\n</table>\n</div>"
     },
     "execution_count": 35,
     "metadata": {},
     "output_type": "execute_result"
    }
   ],
   "source": [
    "#df_all['days_since_login'] = df_all['date'].apply(lambda d: (DATE_AS_OF - d.date()).days)\n",
    "\n",
    "def calc_date_block(ndays):\n",
    "    \"\"\"\n",
    "    Return the appropriate date block range for the given number of days. \n",
    "    note: this is used as an apply lambda.   it users the global dateblocks dict.  It is assumed that date blocks is sorted largest to smallest\n",
    "    :param ndays:   \n",
    "    :return: \n",
    "    \"\"\"\n",
    "\n",
    "    for d in sorted(dateblocks.keys()):\n",
    "        v = dateblocks[d]\n",
    "        print(f\"calc_date_block d={str(d)}  v={dateblocks.get(d)}\")\n",
    "\n",
    "        if ndays <= v.get('ndays_max'):\n",
    "            return v.get('ndays')\n",
    "    return -1\n",
    "\n",
    "df_all['days_since_group'] = df_all['days_ago'].apply(calc_date_block)\n",
    "df_all['days_since_label'] = df_all['days_since_group'].apply(lambda x: dateblocks.get(x).get('label'))\n",
    "\n",
    "df_all.head(5)"
   ],
   "metadata": {
    "collapsed": false,
    "ExecuteTime": {
     "end_time": "2023-12-25T15:42:33.484579Z",
     "start_time": "2023-12-25T15:42:33.477367Z"
    }
   }
  },
  {
   "cell_type": "code",
   "execution_count": 36,
   "outputs": [
    {
     "data": {
      "text/plain": "  days_since_label  user  date  app  days_ago  action  days_since_group\n0     0 to 29 days     4     4    4         4       4                 4\n1  150 to 179 days     1     1    1         1       1                 1\n2    30 to 59 days     1     1    1         1       1                 1\n3    60 to 89 days     6     6    6         6       6                 6\n4   90 to 119 days    10    10   10        10      10                10",
      "text/html": "<div>\n<style scoped>\n    .dataframe tbody tr th:only-of-type {\n        vertical-align: middle;\n    }\n\n    .dataframe tbody tr th {\n        vertical-align: top;\n    }\n\n    .dataframe thead th {\n        text-align: right;\n    }\n</style>\n<table border=\"1\" class=\"dataframe\">\n  <thead>\n    <tr style=\"text-align: right;\">\n      <th></th>\n      <th>days_since_label</th>\n      <th>user</th>\n      <th>date</th>\n      <th>app</th>\n      <th>days_ago</th>\n      <th>action</th>\n      <th>days_since_group</th>\n    </tr>\n  </thead>\n  <tbody>\n    <tr>\n      <th>0</th>\n      <td>0 to 29 days</td>\n      <td>4</td>\n      <td>4</td>\n      <td>4</td>\n      <td>4</td>\n      <td>4</td>\n      <td>4</td>\n    </tr>\n    <tr>\n      <th>1</th>\n      <td>150 to 179 days</td>\n      <td>1</td>\n      <td>1</td>\n      <td>1</td>\n      <td>1</td>\n      <td>1</td>\n      <td>1</td>\n    </tr>\n    <tr>\n      <th>2</th>\n      <td>30 to 59 days</td>\n      <td>1</td>\n      <td>1</td>\n      <td>1</td>\n      <td>1</td>\n      <td>1</td>\n      <td>1</td>\n    </tr>\n    <tr>\n      <th>3</th>\n      <td>60 to 89 days</td>\n      <td>6</td>\n      <td>6</td>\n      <td>6</td>\n      <td>6</td>\n      <td>6</td>\n      <td>6</td>\n    </tr>\n    <tr>\n      <th>4</th>\n      <td>90 to 119 days</td>\n      <td>10</td>\n      <td>10</td>\n      <td>10</td>\n      <td>10</td>\n      <td>10</td>\n      <td>10</td>\n    </tr>\n  </tbody>\n</table>\n</div>"
     },
     "execution_count": 36,
     "metadata": {},
     "output_type": "execute_result"
    }
   ],
   "source": [
    "#orig df_date_bands = df_all.groupby('days_since_label',as_index=False).count()\n",
    "#try grouping by the block.   Then add the labels as the axis.   or vice versa. \n",
    "df_date_bands = df_all.groupby('days_since_label',as_index=False).count()\n",
    "df_date_bands.head(5)"
   ],
   "metadata": {
    "collapsed": false,
    "ExecuteTime": {
     "end_time": "2023-12-25T15:42:33.695111Z",
     "start_time": "2023-12-25T15:42:33.686970Z"
    }
   }
  },
  {
   "cell_type": "code",
   "execution_count": 37,
   "outputs": [
    {
     "data": {
      "text/plain": "   days_since_group  user  date  app  days_ago  action days_since_label\n0                 0     4     4    4         4       4     0 to 29 days\n1                30     1     1    1         1       1    30 to 59 days\n2                60     6     6    6         6       6    60 to 89 days\n3                90    10    10   10        10      10   90 to 119 days\n4               150     1     1    1         1       1  150 to 179 days",
      "text/html": "<div>\n<style scoped>\n    .dataframe tbody tr th:only-of-type {\n        vertical-align: middle;\n    }\n\n    .dataframe tbody tr th {\n        vertical-align: top;\n    }\n\n    .dataframe thead th {\n        text-align: right;\n    }\n</style>\n<table border=\"1\" class=\"dataframe\">\n  <thead>\n    <tr style=\"text-align: right;\">\n      <th></th>\n      <th>days_since_group</th>\n      <th>user</th>\n      <th>date</th>\n      <th>app</th>\n      <th>days_ago</th>\n      <th>action</th>\n      <th>days_since_label</th>\n    </tr>\n  </thead>\n  <tbody>\n    <tr>\n      <th>0</th>\n      <td>0</td>\n      <td>4</td>\n      <td>4</td>\n      <td>4</td>\n      <td>4</td>\n      <td>4</td>\n      <td>0 to 29 days</td>\n    </tr>\n    <tr>\n      <th>1</th>\n      <td>30</td>\n      <td>1</td>\n      <td>1</td>\n      <td>1</td>\n      <td>1</td>\n      <td>1</td>\n      <td>30 to 59 days</td>\n    </tr>\n    <tr>\n      <th>2</th>\n      <td>60</td>\n      <td>6</td>\n      <td>6</td>\n      <td>6</td>\n      <td>6</td>\n      <td>6</td>\n      <td>60 to 89 days</td>\n    </tr>\n    <tr>\n      <th>3</th>\n      <td>90</td>\n      <td>10</td>\n      <td>10</td>\n      <td>10</td>\n      <td>10</td>\n      <td>10</td>\n      <td>90 to 119 days</td>\n    </tr>\n    <tr>\n      <th>4</th>\n      <td>150</td>\n      <td>1</td>\n      <td>1</td>\n      <td>1</td>\n      <td>1</td>\n      <td>1</td>\n      <td>150 to 179 days</td>\n    </tr>\n  </tbody>\n</table>\n</div>"
     },
     "execution_count": 37,
     "metadata": {},
     "output_type": "execute_result"
    },
    {
     "data": {
      "text/plain": "<Figure size 640x480 with 1 Axes>",
      "image/png": "[encoded data removed]"
     },
     "metadata": {},
     "output_type": "display_data"
    }
   ],
   "source": [
    "df_date_bands = df_all.groupby('days_since_group',as_index=False).count()\n",
    "df_date_bands['days_since_label'] = df_date_bands['days_since_group'].apply(lambda x: dateblocks.get(x).get('label'))\n",
    "\n",
    "\n",
    "sns.barplot(x='days_since_label', y='user',\n",
    "            #order=df_date_bands['days_since_group'],\n",
    "            data=df_date_bands) #hue='variable')\n",
    "\n",
    "df_date_bands.head(5)"
   ],
   "metadata": {
    "collapsed": false,
    "ExecuteTime": {
     "end_time": "2023-12-25T15:42:34.118780Z",
     "start_time": "2023-12-25T15:42:34.017013Z"
    }
   }
  },
  {
   "cell_type": "code",
   "outputs": [
    {
     "data": {
      "text/plain": "action   ok  remove  suspend\napp                         \n  app-a   1       0        0\napp-a     3       0        5\napp-b     1       1        3\napp-c     0       0        2\napp-d     0       0        6",
      "text/html": "<div>\n<style scoped>\n    .dataframe tbody tr th:only-of-type {\n        vertical-align: middle;\n    }\n\n    .dataframe tbody tr th {\n        vertical-align: top;\n    }\n\n    .dataframe thead th {\n        text-align: right;\n    }\n</style>\n<table border=\"1\" class=\"dataframe\">\n  <thead>\n    <tr style=\"text-align: right;\">\n      <th>action</th>\n      <th>ok</th>\n      <th>remove</th>\n      <th>suspend</th>\n    </tr>\n    <tr>\n      <th>app</th>\n      <th></th>\n      <th></th>\n      <th></th>\n    </tr>\n  </thead>\n  <tbody>\n    <tr>\n      <th>app-a</th>\n      <td>1</td>\n      <td>0</td>\n      <td>0</td>\n    </tr>\n    <tr>\n      <th>app-a</th>\n      <td>3</td>\n      <td>0</td>\n      <td>5</td>\n    </tr>\n    <tr>\n      <th>app-b</th>\n      <td>1</td>\n      <td>1</td>\n      <td>3</td>\n    </tr>\n    <tr>\n      <th>app-c</th>\n      <td>0</td>\n      <td>0</td>\n      <td>2</td>\n    </tr>\n    <tr>\n      <th>app-d</th>\n      <td>0</td>\n      <td>0</td>\n      <td>6</td>\n    </tr>\n  </tbody>\n</table>\n</div>"
     },
     "execution_count": 42,
     "metadata": {},
     "output_type": "execute_result"
    }
   ],
   "source": [
    "################################################################\n",
    "# Stacked bar of recommendations per app - sorted by app name. \n",
    "################################################################\n",
    "\n",
    "#set up df with just columns we want to use for pivot experiments. \n",
    "# Pivot - we want each action as a column for apps with counts as the cells. \n",
    "# Basic pivot table with columns of action labels counts\n",
    "df_action_count = pd.pivot_table(df_all[['app', 'action','days_since_group']], values='days_since_group', index='app', columns='action',\n",
    "                          aggfunc='count')\n",
    "df_action_count.fillna(0, inplace=True)\n",
    "df_action_count = df_action_count.apply(pd.to_numeric, errors='coerce').astype(int)\n",
    "df_action_count.head(10)\n"
   ],
   "metadata": {
    "collapsed": false,
    "ExecuteTime": {
     "end_time": "2023-12-25T15:44:48.733905Z",
     "start_time": "2023-12-25T15:44:48.709277Z"
    }
   },
   "execution_count": 42
  },
  {
   "cell_type": "code",
   "outputs": [
    {
     "data": {
      "text/plain": "Text(0.5, 1.0, 'Recommend actions per app')"
     },
     "execution_count": 46,
     "metadata": {},
     "output_type": "execute_result"
    },
    {
     "data": {
      "text/plain": "<Figure size 640x480 with 1 Axes>",
      "image/png": "[encoded data removed]"
     },
     "metadata": {},
     "output_type": "display_data"
    }
   ],
   "source": [
    "df_action_count.plot(kind='bar', stacked=True)\n",
    "plt.xlabel('Applications')\n",
    "plt.ylabel('Counts of each app\\'s recommended actions')\n",
    " \n",
    "# title of plot\n",
    "plt.title(\"Recommend actions per app\")\n"
   ],
   "metadata": {
    "collapsed": false,
    "ExecuteTime": {
     "end_time": "2023-12-25T15:51:19.388788Z",
     "start_time": "2023-12-25T15:51:19.223146Z"
    }
   },
   "execution_count": 46
  },
  {
   "cell_type": "code",
   "execution_count": 22,
   "outputs": [],
   "source": [],
   "metadata": {
    "collapsed": false,
    "ExecuteTime": {
     "end_time": "2023-12-25T15:28:20.895510Z",
     "start_time": "2023-12-25T15:28:20.807445Z"
    }
   }
  },
  {
   "cell_type": "code",
   "outputs": [],
   "source": [
    "\n"
   ],
   "metadata": {
    "collapsed": false,
    "ExecuteTime": {
     "end_time": "2023-12-25T15:28:20.896326Z",
     "start_time": "2023-12-25T15:28:20.809906Z"
    }
   },
   "execution_count": 22
  }
 ],
 "metadata": {
  "kernelspec": {
   "display_name": "Python 3",
   "language": "python",
   "name": "python3"
  },
  "language_info": {
   "name": "python",
   "version": "3.11.0 (main, Oct 25 2022, 13:57:33) [Clang 14.0.0 (clang-1400.0.29.202)]"
  },
  "orig_nbformat": 4,
  "vscode": {
   "interpreter": {
    "hash": "5c7b89af1651d0b8571dde13640ecdccf7d5a6204171d6ab33e7c296e100e08a"
   }
  }
 },
 "nbformat": 4,
 "nbformat_minor": 2
}
